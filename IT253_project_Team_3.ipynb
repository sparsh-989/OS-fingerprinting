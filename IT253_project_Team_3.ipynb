{
 "cells": [
  {
   "cell_type": "code",
   "execution_count": 1,
   "id": "infectious-trading",
   "metadata": {},
   "outputs": [],
   "source": [
    "import os\n",
    "import six\n",
    "import tensorflow as tf\n",
    "import numpy\n",
    "import pandas as pd\n",
    "import nltk\n",
    "import matplotlib.pyplot as plt\n",
    "%matplotlib inline\n",
    "\n",
    "from sklearn.datasets import make_classification\n",
    "from sklearn.model_selection import train_test_split\n",
    "from sklearn.metrics import accuracy_score,f1_score\n",
    "from sklearn.metrics import precision_score,recall_score\n",
    "from sklearn.tree import DecisionTreeClassifier#for decision tree\n",
    "from sklearn.neural_network import MLPClassifier#for ANN\n",
    "from sklearn.neighbors import KNeighborsClassifier#for KNN\n",
    "from sklearn.naive_bayes import ComplementNB#for naive bayes\n",
    "from sklearn.ensemble import RandomForestClassifier#for Random Forest"
   ]
  },
  {
   "cell_type": "code",
   "execution_count": 2,
   "id": "complicated-inquiry",
   "metadata": {},
   "outputs": [
    {
     "name": "stderr",
     "output_type": "stream",
     "text": [
      "C:\\Users\\pc\\miniconda3\\lib\\site-packages\\IPython\\core\\interactiveshell.py:3165: DtypeWarning: Columns (23) have mixed types.Specify dtype option on import or set low_memory=False.\n",
      "  has_raised = await self.run_ast_nodes(code_ast.body, cell_name,\n",
      "C:\\Users\\pc\\miniconda3\\lib\\site-packages\\IPython\\core\\interactiveshell.py:3165: DtypeWarning: Columns (23,24,25,26) have mixed types.Specify dtype option on import or set low_memory=False.\n",
      "  has_raised = await self.run_ast_nodes(code_ast.body, cell_name,\n",
      "C:\\Users\\pc\\miniconda3\\lib\\site-packages\\IPython\\core\\interactiveshell.py:3165: DtypeWarning: Columns (9,11,12,15) have mixed types.Specify dtype option on import or set low_memory=False.\n",
      "  has_raised = await self.run_ast_nodes(code_ast.body, cell_name,\n"
     ]
    },
    {
     "data": {
      "text/html": [
       "<div>\n",
       "<style scoped>\n",
       "    .dataframe tbody tr th:only-of-type {\n",
       "        vertical-align: middle;\n",
       "    }\n",
       "\n",
       "    .dataframe tbody tr th {\n",
       "        vertical-align: top;\n",
       "    }\n",
       "\n",
       "    .dataframe thead th {\n",
       "        text-align: right;\n",
       "    }\n",
       "</style>\n",
       "<table border=\"1\" class=\"dataframe\">\n",
       "  <thead>\n",
       "    <tr style=\"text-align: right;\">\n",
       "      <th></th>\n",
       "      <th>Date flow start</th>\n",
       "      <th>Date flow end</th>\n",
       "      <th>Src IPv4</th>\n",
       "      <th>sPort</th>\n",
       "      <th>Dst IPv4</th>\n",
       "      <th>dPort</th>\n",
       "      <th>SYN size</th>\n",
       "      <th>TCP win</th>\n",
       "      <th>TCP SYN TTL</th>\n",
       "      <th>TLS SNI</th>\n",
       "      <th>...</th>\n",
       "      <th>HTTP UA OS MAJ</th>\n",
       "      <th>HTTP UA OS MIN</th>\n",
       "      <th>HTTP UA OS BLD</th>\n",
       "      <th>SSH Client Version</th>\n",
       "      <th>SSH Client Application</th>\n",
       "      <th>SSH Client Encryption</th>\n",
       "      <th>SSH Client MAC</th>\n",
       "      <th>SSH Client Compression</th>\n",
       "      <th>Session ID</th>\n",
       "      <th>Ground Truth OS</th>\n",
       "    </tr>\n",
       "  </thead>\n",
       "  <tbody>\n",
       "    <tr>\n",
       "      <th>0</th>\n",
       "      <td>2019-07-11 23:58:57.823</td>\n",
       "      <td>2019-07-11 23:58:57.823</td>\n",
       "      <td>151.27.76.70</td>\n",
       "      <td>34377.0</td>\n",
       "      <td>75.252.41.68</td>\n",
       "      <td>14349.0</td>\n",
       "      <td>NaN</td>\n",
       "      <td>NaN</td>\n",
       "      <td>NaN</td>\n",
       "      <td>NaN</td>\n",
       "      <td>...</td>\n",
       "      <td>NaN</td>\n",
       "      <td>NaN</td>\n",
       "      <td>NaN</td>\n",
       "      <td>NaN</td>\n",
       "      <td>NaN</td>\n",
       "      <td>NaN</td>\n",
       "      <td>NaN</td>\n",
       "      <td>NaN</td>\n",
       "      <td>3029</td>\n",
       "      <td>Windows</td>\n",
       "    </tr>\n",
       "    <tr>\n",
       "      <th>1</th>\n",
       "      <td>2019-07-11 23:58:08.780</td>\n",
       "      <td>2019-07-11 23:58:57.810</td>\n",
       "      <td>151.27.76.108</td>\n",
       "      <td>40664.0</td>\n",
       "      <td>179.22.75.154</td>\n",
       "      <td>443.0</td>\n",
       "      <td>NaN</td>\n",
       "      <td>NaN</td>\n",
       "      <td>NaN</td>\n",
       "      <td>NaN</td>\n",
       "      <td>...</td>\n",
       "      <td>NaN</td>\n",
       "      <td>NaN</td>\n",
       "      <td>NaN</td>\n",
       "      <td>NaN</td>\n",
       "      <td>NaN</td>\n",
       "      <td>NaN</td>\n",
       "      <td>NaN</td>\n",
       "      <td>NaN</td>\n",
       "      <td>2120</td>\n",
       "      <td>Android</td>\n",
       "    </tr>\n",
       "    <tr>\n",
       "      <th>2</th>\n",
       "      <td>2019-07-11 23:59:00.339</td>\n",
       "      <td>2019-07-11 23:59:00.371</td>\n",
       "      <td>151.27.72.114</td>\n",
       "      <td>64630.0</td>\n",
       "      <td>179.22.74.153</td>\n",
       "      <td>443.0</td>\n",
       "      <td>NaN</td>\n",
       "      <td>NaN</td>\n",
       "      <td>NaN</td>\n",
       "      <td>NaN</td>\n",
       "      <td>...</td>\n",
       "      <td>NaN</td>\n",
       "      <td>NaN</td>\n",
       "      <td>NaN</td>\n",
       "      <td>NaN</td>\n",
       "      <td>NaN</td>\n",
       "      <td>NaN</td>\n",
       "      <td>NaN</td>\n",
       "      <td>NaN</td>\n",
       "      <td>59834</td>\n",
       "      <td>Mac OS</td>\n",
       "    </tr>\n",
       "    <tr>\n",
       "      <th>3</th>\n",
       "      <td>2019-07-11 23:58:58.308</td>\n",
       "      <td>2019-07-11 23:58:58.308</td>\n",
       "      <td>151.27.18.206</td>\n",
       "      <td>8999.0</td>\n",
       "      <td>36.217.95.230</td>\n",
       "      <td>22337.0</td>\n",
       "      <td>NaN</td>\n",
       "      <td>NaN</td>\n",
       "      <td>NaN</td>\n",
       "      <td>NaN</td>\n",
       "      <td>...</td>\n",
       "      <td>NaN</td>\n",
       "      <td>NaN</td>\n",
       "      <td>NaN</td>\n",
       "      <td>NaN</td>\n",
       "      <td>NaN</td>\n",
       "      <td>NaN</td>\n",
       "      <td>NaN</td>\n",
       "      <td>NaN</td>\n",
       "      <td>61722</td>\n",
       "      <td>Windows</td>\n",
       "    </tr>\n",
       "    <tr>\n",
       "      <th>4</th>\n",
       "      <td>2019-07-11 23:58:44.106</td>\n",
       "      <td>2019-07-11 23:59:01.458</td>\n",
       "      <td>151.27.26.159</td>\n",
       "      <td>44919.0</td>\n",
       "      <td>229.186.215.79</td>\n",
       "      <td>443.0</td>\n",
       "      <td>NaN</td>\n",
       "      <td>NaN</td>\n",
       "      <td>NaN</td>\n",
       "      <td>NaN</td>\n",
       "      <td>...</td>\n",
       "      <td>NaN</td>\n",
       "      <td>NaN</td>\n",
       "      <td>NaN</td>\n",
       "      <td>NaN</td>\n",
       "      <td>NaN</td>\n",
       "      <td>NaN</td>\n",
       "      <td>NaN</td>\n",
       "      <td>NaN</td>\n",
       "      <td>48487</td>\n",
       "      <td>Android</td>\n",
       "    </tr>\n",
       "    <tr>\n",
       "      <th>...</th>\n",
       "      <td>...</td>\n",
       "      <td>...</td>\n",
       "      <td>...</td>\n",
       "      <td>...</td>\n",
       "      <td>...</td>\n",
       "      <td>...</td>\n",
       "      <td>...</td>\n",
       "      <td>...</td>\n",
       "      <td>...</td>\n",
       "      <td>...</td>\n",
       "      <td>...</td>\n",
       "      <td>...</td>\n",
       "      <td>...</td>\n",
       "      <td>...</td>\n",
       "      <td>...</td>\n",
       "      <td>...</td>\n",
       "      <td>...</td>\n",
       "      <td>...</td>\n",
       "      <td>...</td>\n",
       "      <td>...</td>\n",
       "      <td>...</td>\n",
       "    </tr>\n",
       "    <tr>\n",
       "      <th>135971</th>\n",
       "      <td>2019-07-12 19:54:47.167</td>\n",
       "      <td>2019-07-12 19:54:47.167</td>\n",
       "      <td>151.27.205.194</td>\n",
       "      <td>46200.0</td>\n",
       "      <td>159.139.206.63</td>\n",
       "      <td>80.0</td>\n",
       "      <td>60.0</td>\n",
       "      <td>65535.0</td>\n",
       "      <td>62.0</td>\n",
       "      <td>NaN</td>\n",
       "      <td>...</td>\n",
       "      <td>65535.0</td>\n",
       "      <td>65535.0</td>\n",
       "      <td>65535.0</td>\n",
       "      <td>NaN</td>\n",
       "      <td>NaN</td>\n",
       "      <td>NaN</td>\n",
       "      <td>NaN</td>\n",
       "      <td>NaN</td>\n",
       "      <td>80629</td>\n",
       "      <td>Android</td>\n",
       "    </tr>\n",
       "    <tr>\n",
       "      <th>135972</th>\n",
       "      <td>2019-07-12 19:53:41.931</td>\n",
       "      <td>2019-07-12 19:54:42.024</td>\n",
       "      <td>151.27.78.213</td>\n",
       "      <td>57305.0</td>\n",
       "      <td>108.184.220.48</td>\n",
       "      <td>80.0</td>\n",
       "      <td>52.0</td>\n",
       "      <td>64240.0</td>\n",
       "      <td>126.0</td>\n",
       "      <td>NaN</td>\n",
       "      <td>...</td>\n",
       "      <td>65535.0</td>\n",
       "      <td>65535.0</td>\n",
       "      <td>65535.0</td>\n",
       "      <td>NaN</td>\n",
       "      <td>NaN</td>\n",
       "      <td>NaN</td>\n",
       "      <td>NaN</td>\n",
       "      <td>NaN</td>\n",
       "      <td>39336</td>\n",
       "      <td>Windows</td>\n",
       "    </tr>\n",
       "    <tr>\n",
       "      <th>135973</th>\n",
       "      <td>2019-07-12 19:52:26.550</td>\n",
       "      <td>2019-07-12 19:54:42.991</td>\n",
       "      <td>151.27.72.224</td>\n",
       "      <td>52042.0</td>\n",
       "      <td>159.139.203.179</td>\n",
       "      <td>80.0</td>\n",
       "      <td>60.0</td>\n",
       "      <td>29200.0</td>\n",
       "      <td>62.0</td>\n",
       "      <td>NaN</td>\n",
       "      <td>...</td>\n",
       "      <td>4.0</td>\n",
       "      <td>4.0</td>\n",
       "      <td>2.0</td>\n",
       "      <td>NaN</td>\n",
       "      <td>NaN</td>\n",
       "      <td>NaN</td>\n",
       "      <td>NaN</td>\n",
       "      <td>NaN</td>\n",
       "      <td>93883</td>\n",
       "      <td>Android</td>\n",
       "    </tr>\n",
       "    <tr>\n",
       "      <th>135974</th>\n",
       "      <td>2019-07-12 19:52:10.742</td>\n",
       "      <td>2019-07-12 19:56:10.907</td>\n",
       "      <td>151.27.201.236</td>\n",
       "      <td>60847.0</td>\n",
       "      <td>179.22.75.180</td>\n",
       "      <td>80.0</td>\n",
       "      <td>60.0</td>\n",
       "      <td>65535.0</td>\n",
       "      <td>62.0</td>\n",
       "      <td>NaN</td>\n",
       "      <td>...</td>\n",
       "      <td>6.0</td>\n",
       "      <td>0.0</td>\n",
       "      <td>1.0</td>\n",
       "      <td>NaN</td>\n",
       "      <td>NaN</td>\n",
       "      <td>NaN</td>\n",
       "      <td>NaN</td>\n",
       "      <td>NaN</td>\n",
       "      <td>63613</td>\n",
       "      <td>Android</td>\n",
       "    </tr>\n",
       "    <tr>\n",
       "      <th>135975</th>\n",
       "      <td>2019-07-12 19:53:52.238</td>\n",
       "      <td>2019-07-12 19:54:52.268</td>\n",
       "      <td>151.27.79.90</td>\n",
       "      <td>53359.0</td>\n",
       "      <td>74.30.66.68</td>\n",
       "      <td>80.0</td>\n",
       "      <td>52.0</td>\n",
       "      <td>17520.0</td>\n",
       "      <td>126.0</td>\n",
       "      <td>NaN</td>\n",
       "      <td>...</td>\n",
       "      <td>65535.0</td>\n",
       "      <td>65535.0</td>\n",
       "      <td>65535.0</td>\n",
       "      <td>NaN</td>\n",
       "      <td>NaN</td>\n",
       "      <td>NaN</td>\n",
       "      <td>NaN</td>\n",
       "      <td>NaN</td>\n",
       "      <td>84724</td>\n",
       "      <td>Windows</td>\n",
       "    </tr>\n",
       "  </tbody>\n",
       "</table>\n",
       "<p>2903285 rows × 29 columns</p>\n",
       "</div>"
      ],
      "text/plain": [
       "                Date flow start            Date flow end        Src IPv4  \\\n",
       "0       2019-07-11 23:58:57.823  2019-07-11 23:58:57.823    151.27.76.70   \n",
       "1       2019-07-11 23:58:08.780  2019-07-11 23:58:57.810   151.27.76.108   \n",
       "2       2019-07-11 23:59:00.339  2019-07-11 23:59:00.371   151.27.72.114   \n",
       "3       2019-07-11 23:58:58.308  2019-07-11 23:58:58.308   151.27.18.206   \n",
       "4       2019-07-11 23:58:44.106  2019-07-11 23:59:01.458   151.27.26.159   \n",
       "...                         ...                      ...             ...   \n",
       "135971  2019-07-12 19:54:47.167  2019-07-12 19:54:47.167  151.27.205.194   \n",
       "135972  2019-07-12 19:53:41.931  2019-07-12 19:54:42.024   151.27.78.213   \n",
       "135973  2019-07-12 19:52:26.550  2019-07-12 19:54:42.991   151.27.72.224   \n",
       "135974  2019-07-12 19:52:10.742  2019-07-12 19:56:10.907  151.27.201.236   \n",
       "135975  2019-07-12 19:53:52.238  2019-07-12 19:54:52.268    151.27.79.90   \n",
       "\n",
       "          sPort         Dst IPv4    dPort  SYN size  TCP win  TCP SYN TTL  \\\n",
       "0       34377.0     75.252.41.68  14349.0       NaN      NaN          NaN   \n",
       "1       40664.0    179.22.75.154    443.0       NaN      NaN          NaN   \n",
       "2       64630.0    179.22.74.153    443.0       NaN      NaN          NaN   \n",
       "3        8999.0    36.217.95.230  22337.0       NaN      NaN          NaN   \n",
       "4       44919.0   229.186.215.79    443.0       NaN      NaN          NaN   \n",
       "...         ...              ...      ...       ...      ...          ...   \n",
       "135971  46200.0   159.139.206.63     80.0      60.0  65535.0         62.0   \n",
       "135972  57305.0   108.184.220.48     80.0      52.0  64240.0        126.0   \n",
       "135973  52042.0  159.139.203.179     80.0      60.0  29200.0         62.0   \n",
       "135974  60847.0    179.22.75.180     80.0      60.0  65535.0         62.0   \n",
       "135975  53359.0      74.30.66.68     80.0      52.0  17520.0        126.0   \n",
       "\n",
       "       TLS SNI  ...  HTTP UA OS MAJ HTTP UA OS MIN HTTP UA OS BLD  \\\n",
       "0          NaN  ...             NaN            NaN            NaN   \n",
       "1          NaN  ...             NaN            NaN            NaN   \n",
       "2          NaN  ...             NaN            NaN            NaN   \n",
       "3          NaN  ...             NaN            NaN            NaN   \n",
       "4          NaN  ...             NaN            NaN            NaN   \n",
       "...        ...  ...             ...            ...            ...   \n",
       "135971     NaN  ...         65535.0        65535.0        65535.0   \n",
       "135972     NaN  ...         65535.0        65535.0        65535.0   \n",
       "135973     NaN  ...             4.0            4.0            2.0   \n",
       "135974     NaN  ...             6.0            0.0            1.0   \n",
       "135975     NaN  ...         65535.0        65535.0        65535.0   \n",
       "\n",
       "       SSH Client Version SSH Client Application SSH Client Encryption  \\\n",
       "0                     NaN                    NaN                   NaN   \n",
       "1                     NaN                    NaN                   NaN   \n",
       "2                     NaN                    NaN                   NaN   \n",
       "3                     NaN                    NaN                   NaN   \n",
       "4                     NaN                    NaN                   NaN   \n",
       "...                   ...                    ...                   ...   \n",
       "135971                NaN                    NaN                   NaN   \n",
       "135972                NaN                    NaN                   NaN   \n",
       "135973                NaN                    NaN                   NaN   \n",
       "135974                NaN                    NaN                   NaN   \n",
       "135975                NaN                    NaN                   NaN   \n",
       "\n",
       "        SSH Client MAC SSH Client Compression  Session ID  Ground Truth OS  \n",
       "0                  NaN                    NaN        3029          Windows  \n",
       "1                  NaN                    NaN        2120          Android  \n",
       "2                  NaN                    NaN       59834           Mac OS  \n",
       "3                  NaN                    NaN       61722          Windows  \n",
       "4                  NaN                    NaN       48487          Android  \n",
       "...                ...                    ...         ...              ...  \n",
       "135971             NaN                    NaN       80629          Android  \n",
       "135972             NaN                    NaN       39336          Windows  \n",
       "135973             NaN                    NaN       93883          Android  \n",
       "135974             NaN                    NaN       63613          Android  \n",
       "135975             NaN                    NaN       84724          Windows  \n",
       "\n",
       "[2903285 rows x 29 columns]"
      ]
     },
     "execution_count": 2,
     "metadata": {},
     "output_type": "execute_result"
    }
   ],
   "source": [
    "dataset_0=pd.read_csv('2019-07-12-00_ground_truth.csv')\n",
    "data2=pd.read_csv('2019-07-12-01_ground_truth.csv')\n",
    "data3=pd.read_csv('2019-07-12-02_ground_truth.csv')\n",
    "data4=pd.read_csv('2019-07-12-03_ground_truth.csv')\n",
    "data5=pd.read_csv('2019-07-12-04_ground_truth.csv')\n",
    "data6=pd.read_csv('2019-07-12-05_ground_truth.csv')\n",
    "data7=pd.read_csv('2019-07-12-06_ground_truth.csv')\n",
    "data8=pd.read_csv('2019-07-12-07_ground_truth.csv')\n",
    "data9=pd.read_csv('2019-07-12-08_ground_truth.csv')\n",
    "data10=pd.read_csv('2019-07-12-09_ground_truth.csv')\n",
    "data11=pd.read_csv('2019-07-12-10_ground_truth.csv')\n",
    "data12=pd.read_csv('2019-07-12-11_ground_truth.csv')\n",
    "data13=pd.read_csv('2019-07-12-12_ground_truth.csv')\n",
    "data14=pd.read_csv('2019-07-12-13_ground_truth.csv')\n",
    "data15=pd.read_csv('2019-07-12-14_ground_truth.csv')\n",
    "data16=pd.read_csv('2019-07-12-15_ground_truth.csv')\n",
    "data17=pd.read_csv('2019-07-12-16_ground_truth.csv')\n",
    "data18=pd.read_csv('2019-07-12-17_ground_truth.csv')\n",
    "data19=pd.read_csv('2019-07-12-18_ground_truth.csv')\n",
    "data20=pd.read_csv('2019-07-12-19_ground_truth.csv')\n",
    "\n",
    "dataset_1=dataset_0.append(data2)\n",
    "dataset_2=dataset_1.append(data3)\n",
    "dataset_3=dataset_2.append(data4)\n",
    "dataset_4=dataset_3.append(data5)\n",
    "dataset_5=dataset_4.append(data6)\n",
    "dataset_6=dataset_5.append(data7)\n",
    "dataset_7=dataset_6.append(data8)\n",
    "dataset_8=dataset_7.append(data9)\n",
    "dataset_9=dataset_8.append(data10)\n",
    "dataset_10=dataset_9.append(data11)\n",
    "dataset_11=dataset_10.append(data12)\n",
    "dataset_12=dataset_11.append(data13)\n",
    "dataset_13=dataset_12.append(data14)\n",
    "dataset_14=dataset_13.append(data15)\n",
    "dataset_15=dataset_14.append(data16)\n",
    "dataset_16=dataset_15.append(data17)\n",
    "dataset_17=dataset_16.append(data18)\n",
    "dataset_18=dataset_17.append(data19)\n",
    "dataset=dataset_18.append(data20)\n",
    "\n",
    "dataset#show the data set"
   ]
  },
  {
   "cell_type": "code",
   "execution_count": 3,
   "id": "offshore-riding",
   "metadata": {},
   "outputs": [
    {
     "data": {
      "text/html": [
       "<div>\n",
       "<style scoped>\n",
       "    .dataframe tbody tr th:only-of-type {\n",
       "        vertical-align: middle;\n",
       "    }\n",
       "\n",
       "    .dataframe tbody tr th {\n",
       "        vertical-align: top;\n",
       "    }\n",
       "\n",
       "    .dataframe thead th {\n",
       "        text-align: right;\n",
       "    }\n",
       "</style>\n",
       "<table border=\"1\" class=\"dataframe\">\n",
       "  <thead>\n",
       "    <tr style=\"text-align: right;\">\n",
       "      <th></th>\n",
       "      <th>SYN size</th>\n",
       "      <th>TCP win</th>\n",
       "      <th>TCP SYN TTL</th>\n",
       "      <th>HTTP UA OS</th>\n",
       "      <th>HTTP UA OS MAJ</th>\n",
       "      <th>HTTP UA OS MIN</th>\n",
       "      <th>HTTP UA OS BLD</th>\n",
       "      <th>Ground Truth OS</th>\n",
       "    </tr>\n",
       "  </thead>\n",
       "  <tbody>\n",
       "    <tr>\n",
       "      <th>10771</th>\n",
       "      <td>52.0</td>\n",
       "      <td>64240.0</td>\n",
       "      <td>126.0</td>\n",
       "      <td>65535.0</td>\n",
       "      <td>65535.0</td>\n",
       "      <td>65535.0</td>\n",
       "      <td>65535.0</td>\n",
       "      <td>Windows</td>\n",
       "    </tr>\n",
       "    <tr>\n",
       "      <th>10772</th>\n",
       "      <td>64.0</td>\n",
       "      <td>65535.0</td>\n",
       "      <td>62.0</td>\n",
       "      <td>65535.0</td>\n",
       "      <td>65535.0</td>\n",
       "      <td>65535.0</td>\n",
       "      <td>65535.0</td>\n",
       "      <td>iOS</td>\n",
       "    </tr>\n",
       "    <tr>\n",
       "      <th>10773</th>\n",
       "      <td>60.0</td>\n",
       "      <td>65535.0</td>\n",
       "      <td>62.0</td>\n",
       "      <td>3.0</td>\n",
       "      <td>2.0</td>\n",
       "      <td>2.0</td>\n",
       "      <td>65535.0</td>\n",
       "      <td>Android</td>\n",
       "    </tr>\n",
       "    <tr>\n",
       "      <th>10774</th>\n",
       "      <td>60.0</td>\n",
       "      <td>65535.0</td>\n",
       "      <td>62.0</td>\n",
       "      <td>65535.0</td>\n",
       "      <td>65535.0</td>\n",
       "      <td>65535.0</td>\n",
       "      <td>65535.0</td>\n",
       "      <td>Android</td>\n",
       "    </tr>\n",
       "    <tr>\n",
       "      <th>10775</th>\n",
       "      <td>52.0</td>\n",
       "      <td>64240.0</td>\n",
       "      <td>126.0</td>\n",
       "      <td>68.0</td>\n",
       "      <td>10.0</td>\n",
       "      <td>0.0</td>\n",
       "      <td>65535.0</td>\n",
       "      <td>Windows</td>\n",
       "    </tr>\n",
       "    <tr>\n",
       "      <th>...</th>\n",
       "      <td>...</td>\n",
       "      <td>...</td>\n",
       "      <td>...</td>\n",
       "      <td>...</td>\n",
       "      <td>...</td>\n",
       "      <td>...</td>\n",
       "      <td>...</td>\n",
       "      <td>...</td>\n",
       "    </tr>\n",
       "    <tr>\n",
       "      <th>135971</th>\n",
       "      <td>60.0</td>\n",
       "      <td>65535.0</td>\n",
       "      <td>62.0</td>\n",
       "      <td>65535.0</td>\n",
       "      <td>65535.0</td>\n",
       "      <td>65535.0</td>\n",
       "      <td>65535.0</td>\n",
       "      <td>Android</td>\n",
       "    </tr>\n",
       "    <tr>\n",
       "      <th>135972</th>\n",
       "      <td>52.0</td>\n",
       "      <td>64240.0</td>\n",
       "      <td>126.0</td>\n",
       "      <td>65535.0</td>\n",
       "      <td>65535.0</td>\n",
       "      <td>65535.0</td>\n",
       "      <td>65535.0</td>\n",
       "      <td>Windows</td>\n",
       "    </tr>\n",
       "    <tr>\n",
       "      <th>135973</th>\n",
       "      <td>60.0</td>\n",
       "      <td>29200.0</td>\n",
       "      <td>62.0</td>\n",
       "      <td>3.0</td>\n",
       "      <td>4.0</td>\n",
       "      <td>4.0</td>\n",
       "      <td>2.0</td>\n",
       "      <td>Android</td>\n",
       "    </tr>\n",
       "    <tr>\n",
       "      <th>135974</th>\n",
       "      <td>60.0</td>\n",
       "      <td>65535.0</td>\n",
       "      <td>62.0</td>\n",
       "      <td>3.0</td>\n",
       "      <td>6.0</td>\n",
       "      <td>0.0</td>\n",
       "      <td>1.0</td>\n",
       "      <td>Android</td>\n",
       "    </tr>\n",
       "    <tr>\n",
       "      <th>135975</th>\n",
       "      <td>52.0</td>\n",
       "      <td>17520.0</td>\n",
       "      <td>126.0</td>\n",
       "      <td>65535.0</td>\n",
       "      <td>65535.0</td>\n",
       "      <td>65535.0</td>\n",
       "      <td>65535.0</td>\n",
       "      <td>Windows</td>\n",
       "    </tr>\n",
       "  </tbody>\n",
       "</table>\n",
       "<p>171296 rows × 8 columns</p>\n",
       "</div>"
      ],
      "text/plain": [
       "        SYN size  TCP win  TCP SYN TTL  HTTP UA OS  HTTP UA OS MAJ  \\\n",
       "10771       52.0  64240.0        126.0     65535.0         65535.0   \n",
       "10772       64.0  65535.0         62.0     65535.0         65535.0   \n",
       "10773       60.0  65535.0         62.0         3.0             2.0   \n",
       "10774       60.0  65535.0         62.0     65535.0         65535.0   \n",
       "10775       52.0  64240.0        126.0        68.0            10.0   \n",
       "...          ...      ...          ...         ...             ...   \n",
       "135971      60.0  65535.0         62.0     65535.0         65535.0   \n",
       "135972      52.0  64240.0        126.0     65535.0         65535.0   \n",
       "135973      60.0  29200.0         62.0         3.0             4.0   \n",
       "135974      60.0  65535.0         62.0         3.0             6.0   \n",
       "135975      52.0  17520.0        126.0     65535.0         65535.0   \n",
       "\n",
       "        HTTP UA OS MIN  HTTP UA OS BLD Ground Truth OS  \n",
       "10771          65535.0         65535.0         Windows  \n",
       "10772          65535.0         65535.0             iOS  \n",
       "10773              2.0         65535.0         Android  \n",
       "10774          65535.0         65535.0         Android  \n",
       "10775              0.0         65535.0         Windows  \n",
       "...                ...             ...             ...  \n",
       "135971         65535.0         65535.0         Android  \n",
       "135972         65535.0         65535.0         Windows  \n",
       "135973             4.0             2.0         Android  \n",
       "135974             0.0             1.0         Android  \n",
       "135975         65535.0         65535.0         Windows  \n",
       "\n",
       "[171296 rows x 8 columns]"
      ]
     },
     "execution_count": 3,
     "metadata": {},
     "output_type": "execute_result"
    }
   ],
   "source": [
    "train=dataset.drop(columns=['TLS SNI','TLS SNI length','TLS Client Version','Client Cipher Suites','TLS Extension Types','TLS Extension Lengths','TLS Elliptic Curves','TLS EC Point Formats','HTTP Host','SSH Client Version','SSH Client Application','SSH Client Encryption','SSH Client MAC','SSH Client Compression','Session ID','Date flow start','Date flow end','Src IPv4','sPort','Dst IPv4','dPort'])\n",
    "\n",
    "#we can have 2 datasets one chosen above and one commented below\n",
    "#train=dataset.drop(columns=['TLS SNI','HTTP UA OS','HTTP UA OS MAJ','HTTP UA OS MIN','HTTP UA OS BLD','TLS Client Version','Client Cipher Suites','TLS Extension Types','TLS Extension Lengths','TLS Elliptic Curves','TLS EC Point Formats','HTTP Host','SSH Client Version','SSH Client Application','SSH Client Encryption','SSH Client MAC','SSH Client Compression','Session ID','Date flow start','Date flow end','Src IPv4','sPort','Dst IPv4','dPort'])\n",
    "\n",
    "training_inputs_1=train.dropna()\n",
    "training_inputs=training_inputs_1[training_inputs_1['Ground Truth OS']!='Windows Phone']\n",
    "training_inputs"
   ]
  },
  {
   "cell_type": "code",
   "execution_count": 4,
   "id": "committed-amsterdam",
   "metadata": {},
   "outputs": [
    {
     "data": {
      "text/html": [
       "<div>\n",
       "<style scoped>\n",
       "    .dataframe tbody tr th:only-of-type {\n",
       "        vertical-align: middle;\n",
       "    }\n",
       "\n",
       "    .dataframe tbody tr th {\n",
       "        vertical-align: top;\n",
       "    }\n",
       "\n",
       "    .dataframe thead th {\n",
       "        text-align: right;\n",
       "    }\n",
       "</style>\n",
       "<table border=\"1\" class=\"dataframe\">\n",
       "  <thead>\n",
       "    <tr style=\"text-align: right;\">\n",
       "      <th></th>\n",
       "      <th>SYN size</th>\n",
       "      <th>TCP win</th>\n",
       "      <th>TCP SYN TTL</th>\n",
       "      <th>HTTP UA OS</th>\n",
       "      <th>HTTP UA OS MAJ</th>\n",
       "      <th>HTTP UA OS MIN</th>\n",
       "      <th>HTTP UA OS BLD</th>\n",
       "    </tr>\n",
       "  </thead>\n",
       "  <tbody>\n",
       "    <tr>\n",
       "      <th>count</th>\n",
       "      <td>171296.000000</td>\n",
       "      <td>171296.000000</td>\n",
       "      <td>171296.000000</td>\n",
       "      <td>171296.000000</td>\n",
       "      <td>171296.000000</td>\n",
       "      <td>171296.000000</td>\n",
       "      <td>171296.000000</td>\n",
       "    </tr>\n",
       "    <tr>\n",
       "      <th>mean</th>\n",
       "      <td>58.371310</td>\n",
       "      <td>61574.788950</td>\n",
       "      <td>79.847013</td>\n",
       "      <td>25619.470478</td>\n",
       "      <td>31176.286522</td>\n",
       "      <td>35411.917663</td>\n",
       "      <td>46013.240724</td>\n",
       "    </tr>\n",
       "    <tr>\n",
       "      <th>std</th>\n",
       "      <td>4.498118</td>\n",
       "      <td>12827.097646</td>\n",
       "      <td>28.699183</td>\n",
       "      <td>31969.659990</td>\n",
       "      <td>32724.008410</td>\n",
       "      <td>32659.562713</td>\n",
       "      <td>29893.848321</td>\n",
       "    </tr>\n",
       "    <tr>\n",
       "      <th>min</th>\n",
       "      <td>48.000000</td>\n",
       "      <td>8192.000000</td>\n",
       "      <td>60.000000</td>\n",
       "      <td>1.000000</td>\n",
       "      <td>1.000000</td>\n",
       "      <td>0.000000</td>\n",
       "      <td>0.000000</td>\n",
       "    </tr>\n",
       "    <tr>\n",
       "      <th>25%</th>\n",
       "      <td>52.000000</td>\n",
       "      <td>64240.000000</td>\n",
       "      <td>62.000000</td>\n",
       "      <td>3.000000</td>\n",
       "      <td>8.000000</td>\n",
       "      <td>1.000000</td>\n",
       "      <td>5.000000</td>\n",
       "    </tr>\n",
       "    <tr>\n",
       "      <th>50%</th>\n",
       "      <td>60.000000</td>\n",
       "      <td>65535.000000</td>\n",
       "      <td>62.000000</td>\n",
       "      <td>25.000000</td>\n",
       "      <td>18.000000</td>\n",
       "      <td>65535.000000</td>\n",
       "      <td>65535.000000</td>\n",
       "    </tr>\n",
       "    <tr>\n",
       "      <th>75%</th>\n",
       "      <td>60.000000</td>\n",
       "      <td>65535.000000</td>\n",
       "      <td>126.000000</td>\n",
       "      <td>65535.000000</td>\n",
       "      <td>65535.000000</td>\n",
       "      <td>65535.000000</td>\n",
       "      <td>65535.000000</td>\n",
       "    </tr>\n",
       "    <tr>\n",
       "      <th>max</th>\n",
       "      <td>64.000000</td>\n",
       "      <td>65535.000000</td>\n",
       "      <td>126.000000</td>\n",
       "      <td>65535.000000</td>\n",
       "      <td>65535.000000</td>\n",
       "      <td>65535.000000</td>\n",
       "      <td>65535.000000</td>\n",
       "    </tr>\n",
       "  </tbody>\n",
       "</table>\n",
       "</div>"
      ],
      "text/plain": [
       "            SYN size        TCP win    TCP SYN TTL     HTTP UA OS  \\\n",
       "count  171296.000000  171296.000000  171296.000000  171296.000000   \n",
       "mean       58.371310   61574.788950      79.847013   25619.470478   \n",
       "std         4.498118   12827.097646      28.699183   31969.659990   \n",
       "min        48.000000    8192.000000      60.000000       1.000000   \n",
       "25%        52.000000   64240.000000      62.000000       3.000000   \n",
       "50%        60.000000   65535.000000      62.000000      25.000000   \n",
       "75%        60.000000   65535.000000     126.000000   65535.000000   \n",
       "max        64.000000   65535.000000     126.000000   65535.000000   \n",
       "\n",
       "       HTTP UA OS MAJ  HTTP UA OS MIN  HTTP UA OS BLD  \n",
       "count   171296.000000   171296.000000   171296.000000  \n",
       "mean     31176.286522    35411.917663    46013.240724  \n",
       "std      32724.008410    32659.562713    29893.848321  \n",
       "min          1.000000        0.000000        0.000000  \n",
       "25%          8.000000        1.000000        5.000000  \n",
       "50%         18.000000    65535.000000    65535.000000  \n",
       "75%      65535.000000    65535.000000    65535.000000  \n",
       "max      65535.000000    65535.000000    65535.000000  "
      ]
     },
     "execution_count": 4,
     "metadata": {},
     "output_type": "execute_result"
    }
   ],
   "source": [
    "training_inputs.describe()"
   ]
  },
  {
   "cell_type": "code",
   "execution_count": 5,
   "id": "pregnant-briefs",
   "metadata": {},
   "outputs": [
    {
     "data": {
      "text/plain": [
       "(171296, 8)"
      ]
     },
     "execution_count": 5,
     "metadata": {},
     "output_type": "execute_result"
    }
   ],
   "source": [
    "training_inputs.shape"
   ]
  },
  {
   "cell_type": "code",
   "execution_count": 6,
   "id": "flying-sculpture",
   "metadata": {},
   "outputs": [],
   "source": [
    "Y=training_inputs['Ground Truth OS']#outputs\n",
    "X=training_inputs.drop(columns=['Ground Truth OS'])#inputs"
   ]
  },
  {
   "cell_type": "code",
   "execution_count": 7,
   "id": "weekly-beijing",
   "metadata": {},
   "outputs": [
    {
     "data": {
      "text/plain": [
       "array(['Windows', 'iOS', 'Android', 'Mac OS'], dtype=object)"
      ]
     },
     "execution_count": 7,
     "metadata": {},
     "output_type": "execute_result"
    }
   ],
   "source": [
    "Y.unique()#outputs are : Windows,Android,Mac OS,iOS."
   ]
  },
  {
   "cell_type": "code",
   "execution_count": 8,
   "id": "celtic-croatia",
   "metadata": {},
   "outputs": [],
   "source": [
    "X_train,X_test,Y_train,Y_test=train_test_split(X,Y,test_size=0.2)"
   ]
  },
  {
   "cell_type": "code",
   "execution_count": 136,
   "id": "retained-station",
   "metadata": {
    "scrolled": true
   },
   "outputs": [
    {
     "name": "stdout",
     "output_type": "stream",
     "text": [
      "Accuracy for ANN nets is 0.7325160537069468\n"
     ]
    }
   ],
   "source": [
    "ann_model=MLPClassifier()#a general net\n",
    "\n",
    "ann_model.fit(X_train,Y_train)\n",
    "prediction=ann_model.predict(X_test)\n",
    "score=accuracy_score(Y_test,prediction)\n",
    "print(f'Accuracy for ANN nets is {score}') #accuracy of the model"
   ]
  },
  {
   "cell_type": "code",
   "execution_count": 137,
   "id": "confirmed-calibration",
   "metadata": {},
   "outputs": [
    {
     "data": {
      "text/plain": [
       "0.7325160537069468"
      ]
     },
     "execution_count": 137,
     "metadata": {},
     "output_type": "execute_result"
    }
   ],
   "source": [
    "precision_score(Y_test, prediction,average='micro', zero_division='warn')"
   ]
  },
  {
   "cell_type": "code",
   "execution_count": 141,
   "id": "studied-giant",
   "metadata": {},
   "outputs": [
    {
     "data": {
      "text/plain": [
       "0.7325160537069468"
      ]
     },
     "execution_count": 141,
     "metadata": {},
     "output_type": "execute_result"
    }
   ],
   "source": [
    "recall_score(Y_test,prediction,average='micro', zero_division='warn')"
   ]
  },
  {
   "cell_type": "code",
   "execution_count": 142,
   "id": "latin-parish",
   "metadata": {},
   "outputs": [
    {
     "data": {
      "text/plain": [
       "0.6769568592470544"
      ]
     },
     "execution_count": 142,
     "metadata": {},
     "output_type": "execute_result"
    }
   ],
   "source": [
    "f1_score(Y_test, prediction,average='macro')"
   ]
  },
  {
   "cell_type": "code",
   "execution_count": 143,
   "id": "square-highlight",
   "metadata": {},
   "outputs": [
    {
     "data": {
      "text/plain": [
       "0.7325160537069468"
      ]
     },
     "execution_count": 143,
     "metadata": {},
     "output_type": "execute_result"
    }
   ],
   "source": [
    "f1_score(Y_test, prediction,average='micro')"
   ]
  },
  {
   "cell_type": "code",
   "execution_count": 144,
   "id": "israeli-design",
   "metadata": {},
   "outputs": [
    {
     "data": {
      "text/plain": [
       "0.7273349435851583"
      ]
     },
     "execution_count": 144,
     "metadata": {},
     "output_type": "execute_result"
    }
   ],
   "source": [
    "f1_score(Y_test, prediction,average='weighted')"
   ]
  },
  {
   "cell_type": "code",
   "execution_count": 160,
   "id": "stock-hartford",
   "metadata": {},
   "outputs": [
    {
     "name": "stdout",
     "output_type": "stream",
     "text": [
      "Accuracy for KNN nets is 0.9647694103911266\n"
     ]
    }
   ],
   "source": [
    "knn_model=KNeighborsClassifier(n_neighbors=5)#a general Knn net\n",
    "\n",
    "knn_model.fit(X_train,Y_train)\n",
    "prediction=knn_model.predict(X_test)\n",
    "score=accuracy_score(Y_test,prediction)\n",
    "print(f'Accuracy for KNN nets is {score}') #accuracy of the model"
   ]
  },
  {
   "cell_type": "code",
   "execution_count": 161,
   "id": "ordered-straight",
   "metadata": {},
   "outputs": [
    {
     "data": {
      "text/plain": [
       "0.9647694103911266"
      ]
     },
     "execution_count": 161,
     "metadata": {},
     "output_type": "execute_result"
    }
   ],
   "source": [
    "precision_score(Y_test, prediction,average='micro', zero_division='warn')"
   ]
  },
  {
   "cell_type": "code",
   "execution_count": 163,
   "id": "executive-peoples",
   "metadata": {},
   "outputs": [
    {
     "data": {
      "text/plain": [
       "0.9647694103911266"
      ]
     },
     "execution_count": 163,
     "metadata": {},
     "output_type": "execute_result"
    }
   ],
   "source": [
    "recall_score(Y_test,prediction,average='micro', zero_division='warn')"
   ]
  },
  {
   "cell_type": "code",
   "execution_count": 164,
   "id": "premium-installation",
   "metadata": {},
   "outputs": [
    {
     "data": {
      "text/plain": [
       "0.9202041011647937"
      ]
     },
     "execution_count": 164,
     "metadata": {},
     "output_type": "execute_result"
    }
   ],
   "source": [
    "f1_score(Y_test, prediction,average='macro')"
   ]
  },
  {
   "cell_type": "code",
   "execution_count": 165,
   "id": "adjacent-oasis",
   "metadata": {},
   "outputs": [
    {
     "data": {
      "text/plain": [
       "0.9647694103911266"
      ]
     },
     "execution_count": 165,
     "metadata": {},
     "output_type": "execute_result"
    }
   ],
   "source": [
    "f1_score(Y_test, prediction,average='micro')"
   ]
  },
  {
   "cell_type": "code",
   "execution_count": 166,
   "id": "modified-ministry",
   "metadata": {},
   "outputs": [
    {
     "data": {
      "text/plain": [
       "0.9636549158663411"
      ]
     },
     "execution_count": 166,
     "metadata": {},
     "output_type": "execute_result"
    }
   ],
   "source": [
    "f1_score(Y_test, prediction,average='weighted')"
   ]
  },
  {
   "cell_type": "code",
   "execution_count": 183,
   "id": "subsequent-process",
   "metadata": {},
   "outputs": [
    {
     "name": "stdout",
     "output_type": "stream",
     "text": [
      "Accuracy for Decision Tree is 0.9652656158785756\n"
     ]
    }
   ],
   "source": [
    "DecisionTree_model=DecisionTreeClassifier()#a general DecisionTree net\n",
    "\n",
    "DecisionTree_model.fit(X_train,Y_train)\n",
    "prediction=DecisionTree_model.predict(X_test)\n",
    "score=accuracy_score(Y_test,prediction)\n",
    "print(f'Accuracy for Decision Tree is {score}') #accuracy of the model"
   ]
  },
  {
   "cell_type": "code",
   "execution_count": 184,
   "id": "analyzed-angel",
   "metadata": {},
   "outputs": [
    {
     "data": {
      "text/plain": [
       "0.9652656158785756"
      ]
     },
     "execution_count": 184,
     "metadata": {},
     "output_type": "execute_result"
    }
   ],
   "source": [
    "precision_score(Y_test, prediction,average='micro', zero_division='warn')"
   ]
  },
  {
   "cell_type": "code",
   "execution_count": 186,
   "id": "hairy-dutch",
   "metadata": {},
   "outputs": [
    {
     "data": {
      "text/plain": [
       "0.9652656158785756"
      ]
     },
     "execution_count": 186,
     "metadata": {},
     "output_type": "execute_result"
    }
   ],
   "source": [
    "recall_score(Y_test,prediction,average='micro', zero_division='warn')"
   ]
  },
  {
   "cell_type": "code",
   "execution_count": 187,
   "id": "blank-mobility",
   "metadata": {},
   "outputs": [
    {
     "data": {
      "text/plain": [
       "0.9213649672938659"
      ]
     },
     "execution_count": 187,
     "metadata": {},
     "output_type": "execute_result"
    }
   ],
   "source": [
    "f1_score(Y_test, prediction,average='macro')"
   ]
  },
  {
   "cell_type": "code",
   "execution_count": 188,
   "id": "warming-celebration",
   "metadata": {},
   "outputs": [
    {
     "data": {
      "text/plain": [
       "0.9652656158785756"
      ]
     },
     "execution_count": 188,
     "metadata": {},
     "output_type": "execute_result"
    }
   ],
   "source": [
    "f1_score(Y_test, prediction,average='micro')"
   ]
  },
  {
   "cell_type": "code",
   "execution_count": 189,
   "id": "injured-significance",
   "metadata": {},
   "outputs": [
    {
     "data": {
      "text/plain": [
       "0.9641725327732398"
      ]
     },
     "execution_count": 189,
     "metadata": {},
     "output_type": "execute_result"
    }
   ],
   "source": [
    "f1_score(Y_test, prediction,average='weighted')"
   ]
  },
  {
   "cell_type": "code",
   "execution_count": 206,
   "id": "seven-characterization",
   "metadata": {},
   "outputs": [
    {
     "name": "stdout",
     "output_type": "stream",
     "text": [
      "Accuracy for Random Forest is 0.9652948044366608\n"
     ]
    }
   ],
   "source": [
    "ranfor_model=RandomForestClassifier()##a general Random Forest\n",
    "\n",
    "ranfor_model.fit(X_train,Y_train)\n",
    "prediction=ranfor_model.predict(X_test)\n",
    "score=accuracy_score(Y_test,prediction)\n",
    "print(f'Accuracy for Random Forest is {score}') #accuracy of the model"
   ]
  },
  {
   "cell_type": "code",
   "execution_count": 207,
   "id": "clinical-geology",
   "metadata": {},
   "outputs": [
    {
     "data": {
      "text/plain": [
       "0.9652948044366608"
      ]
     },
     "execution_count": 207,
     "metadata": {},
     "output_type": "execute_result"
    }
   ],
   "source": [
    "precision_score(Y_test, prediction,average='micro', zero_division='warn')"
   ]
  },
  {
   "cell_type": "code",
   "execution_count": 209,
   "id": "respiratory-doctor",
   "metadata": {},
   "outputs": [
    {
     "data": {
      "text/plain": [
       "0.9652948044366608"
      ]
     },
     "execution_count": 209,
     "metadata": {},
     "output_type": "execute_result"
    }
   ],
   "source": [
    "recall_score(Y_test,prediction,average='micro', zero_division='warn')"
   ]
  },
  {
   "cell_type": "code",
   "execution_count": 210,
   "id": "worthy-shopping",
   "metadata": {},
   "outputs": [
    {
     "data": {
      "text/plain": [
       "0.9214150277986284"
      ]
     },
     "execution_count": 210,
     "metadata": {},
     "output_type": "execute_result"
    }
   ],
   "source": [
    "f1_score(Y_test, prediction,average='macro')"
   ]
  },
  {
   "cell_type": "code",
   "execution_count": 211,
   "id": "streaming-rebate",
   "metadata": {},
   "outputs": [
    {
     "data": {
      "text/plain": [
       "0.9652948044366608"
      ]
     },
     "execution_count": 211,
     "metadata": {},
     "output_type": "execute_result"
    }
   ],
   "source": [
    "f1_score(Y_test, prediction,average='micro')"
   ]
  },
  {
   "cell_type": "code",
   "execution_count": 212,
   "id": "graphic-alpha",
   "metadata": {},
   "outputs": [
    {
     "data": {
      "text/plain": [
       "0.9642011401659039"
      ]
     },
     "execution_count": 212,
     "metadata": {},
     "output_type": "execute_result"
    }
   ],
   "source": [
    "f1_score(Y_test, prediction,average='weighted')"
   ]
  },
  {
   "cell_type": "code",
   "execution_count": 11,
   "id": "plastic-legend",
   "metadata": {},
   "outputs": [
    {
     "name": "stdout",
     "output_type": "stream",
     "text": [
      "Accuracy for Naive Bayes model is 0.6038237011091652\n"
     ]
    }
   ],
   "source": [
    "bayes_model=ComplementNB()#a general naive bayes\n",
    "\n",
    "bayes_model.fit(X_train,Y_train)\n",
    "prediction=bayes_model.predict(X_test)\n",
    "score=accuracy_score(Y_test,prediction)\n",
    "print(f'Accuracy for Naive Bayes model is {score}') #accuracy of the model"
   ]
  },
  {
   "cell_type": "code",
   "execution_count": 10,
   "id": "grateful-murray",
   "metadata": {},
   "outputs": [
    {
     "data": {
      "text/plain": [
       "0.6038237011091652"
      ]
     },
     "execution_count": 10,
     "metadata": {},
     "output_type": "execute_result"
    }
   ],
   "source": [
    "precision_score(Y_test, prediction,average='micro', zero_division='warn')"
   ]
  },
  {
   "cell_type": "code",
   "execution_count": 12,
   "id": "controlling-evolution",
   "metadata": {},
   "outputs": [
    {
     "data": {
      "text/plain": [
       "0.6038237011091652"
      ]
     },
     "execution_count": 12,
     "metadata": {},
     "output_type": "execute_result"
    }
   ],
   "source": [
    "recall_score(Y_test,prediction,average='micro', zero_division='warn')"
   ]
  },
  {
   "cell_type": "code",
   "execution_count": 13,
   "id": "massive-planning",
   "metadata": {},
   "outputs": [
    {
     "data": {
      "text/plain": [
       "0.3352946895094078"
      ]
     },
     "execution_count": 13,
     "metadata": {},
     "output_type": "execute_result"
    }
   ],
   "source": [
    "f1_score(Y_test, prediction,average='macro')"
   ]
  },
  {
   "cell_type": "code",
   "execution_count": 14,
   "id": "valuable-heating",
   "metadata": {},
   "outputs": [
    {
     "data": {
      "text/plain": [
       "0.6038237011091652"
      ]
     },
     "execution_count": 14,
     "metadata": {},
     "output_type": "execute_result"
    }
   ],
   "source": [
    "f1_score(Y_test, prediction,average='micro')"
   ]
  },
  {
   "cell_type": "code",
   "execution_count": 15,
   "id": "rising-colleague",
   "metadata": {},
   "outputs": [
    {
     "data": {
      "text/plain": [
       "0.533257709643371"
      ]
     },
     "execution_count": 15,
     "metadata": {},
     "output_type": "execute_result"
    }
   ],
   "source": [
    "f1_score(Y_test, prediction,average='weighted')"
   ]
  },
  {
   "cell_type": "markdown",
   "id": "smooth-superior",
   "metadata": {},
   "source": [
    "# Now we check accuracy regarding a pirticular OS"
   ]
  },
  {
   "cell_type": "code",
   "execution_count": 17,
   "id": "uniform-forestry",
   "metadata": {},
   "outputs": [],
   "source": [
    "only_windows=training_inputs[training_inputs['Ground Truth OS']=='Windows']\n",
    "\n",
    "only_iOS=training_inputs[training_inputs['Ground Truth OS']=='iOS']\n",
    "\n",
    "only_Mac=training_inputs[training_inputs['Ground Truth OS']=='Mac OS']\n",
    "\n",
    "only_Android=training_inputs[training_inputs['Ground Truth OS']=='Android']\n"
   ]
  },
  {
   "cell_type": "code",
   "execution_count": 18,
   "id": "positive-garden",
   "metadata": {},
   "outputs": [
    {
     "data": {
      "text/html": [
       "<div>\n",
       "<style scoped>\n",
       "    .dataframe tbody tr th:only-of-type {\n",
       "        vertical-align: middle;\n",
       "    }\n",
       "\n",
       "    .dataframe tbody tr th {\n",
       "        vertical-align: top;\n",
       "    }\n",
       "\n",
       "    .dataframe thead th {\n",
       "        text-align: right;\n",
       "    }\n",
       "</style>\n",
       "<table border=\"1\" class=\"dataframe\">\n",
       "  <thead>\n",
       "    <tr style=\"text-align: right;\">\n",
       "      <th></th>\n",
       "      <th>SYN size</th>\n",
       "      <th>TCP win</th>\n",
       "      <th>TCP SYN TTL</th>\n",
       "      <th>HTTP UA OS</th>\n",
       "      <th>HTTP UA OS MAJ</th>\n",
       "      <th>HTTP UA OS MIN</th>\n",
       "      <th>HTTP UA OS BLD</th>\n",
       "      <th>Ground Truth OS</th>\n",
       "    </tr>\n",
       "  </thead>\n",
       "  <tbody>\n",
       "    <tr>\n",
       "      <th>10771</th>\n",
       "      <td>52.0</td>\n",
       "      <td>64240.0</td>\n",
       "      <td>126.0</td>\n",
       "      <td>65535.0</td>\n",
       "      <td>65535.0</td>\n",
       "      <td>65535.0</td>\n",
       "      <td>65535.0</td>\n",
       "      <td>Windows</td>\n",
       "    </tr>\n",
       "    <tr>\n",
       "      <th>10775</th>\n",
       "      <td>52.0</td>\n",
       "      <td>64240.0</td>\n",
       "      <td>126.0</td>\n",
       "      <td>68.0</td>\n",
       "      <td>10.0</td>\n",
       "      <td>0.0</td>\n",
       "      <td>65535.0</td>\n",
       "      <td>Windows</td>\n",
       "    </tr>\n",
       "    <tr>\n",
       "      <th>10777</th>\n",
       "      <td>52.0</td>\n",
       "      <td>64240.0</td>\n",
       "      <td>126.0</td>\n",
       "      <td>65535.0</td>\n",
       "      <td>65535.0</td>\n",
       "      <td>65535.0</td>\n",
       "      <td>65535.0</td>\n",
       "      <td>Windows</td>\n",
       "    </tr>\n",
       "    <tr>\n",
       "      <th>10779</th>\n",
       "      <td>52.0</td>\n",
       "      <td>64240.0</td>\n",
       "      <td>126.0</td>\n",
       "      <td>65535.0</td>\n",
       "      <td>65535.0</td>\n",
       "      <td>65535.0</td>\n",
       "      <td>65535.0</td>\n",
       "      <td>Windows</td>\n",
       "    </tr>\n",
       "    <tr>\n",
       "      <th>10780</th>\n",
       "      <td>52.0</td>\n",
       "      <td>64240.0</td>\n",
       "      <td>126.0</td>\n",
       "      <td>65535.0</td>\n",
       "      <td>65535.0</td>\n",
       "      <td>65535.0</td>\n",
       "      <td>65535.0</td>\n",
       "      <td>Windows</td>\n",
       "    </tr>\n",
       "    <tr>\n",
       "      <th>...</th>\n",
       "      <td>...</td>\n",
       "      <td>...</td>\n",
       "      <td>...</td>\n",
       "      <td>...</td>\n",
       "      <td>...</td>\n",
       "      <td>...</td>\n",
       "      <td>...</td>\n",
       "      <td>...</td>\n",
       "    </tr>\n",
       "    <tr>\n",
       "      <th>135968</th>\n",
       "      <td>52.0</td>\n",
       "      <td>64240.0</td>\n",
       "      <td>126.0</td>\n",
       "      <td>40.0</td>\n",
       "      <td>65535.0</td>\n",
       "      <td>65535.0</td>\n",
       "      <td>65535.0</td>\n",
       "      <td>Windows</td>\n",
       "    </tr>\n",
       "    <tr>\n",
       "      <th>135969</th>\n",
       "      <td>52.0</td>\n",
       "      <td>8192.0</td>\n",
       "      <td>126.0</td>\n",
       "      <td>65535.0</td>\n",
       "      <td>65535.0</td>\n",
       "      <td>65535.0</td>\n",
       "      <td>65535.0</td>\n",
       "      <td>Windows</td>\n",
       "    </tr>\n",
       "    <tr>\n",
       "      <th>135970</th>\n",
       "      <td>52.0</td>\n",
       "      <td>64240.0</td>\n",
       "      <td>126.0</td>\n",
       "      <td>65535.0</td>\n",
       "      <td>65535.0</td>\n",
       "      <td>65535.0</td>\n",
       "      <td>65535.0</td>\n",
       "      <td>Windows</td>\n",
       "    </tr>\n",
       "    <tr>\n",
       "      <th>135972</th>\n",
       "      <td>52.0</td>\n",
       "      <td>64240.0</td>\n",
       "      <td>126.0</td>\n",
       "      <td>65535.0</td>\n",
       "      <td>65535.0</td>\n",
       "      <td>65535.0</td>\n",
       "      <td>65535.0</td>\n",
       "      <td>Windows</td>\n",
       "    </tr>\n",
       "    <tr>\n",
       "      <th>135975</th>\n",
       "      <td>52.0</td>\n",
       "      <td>17520.0</td>\n",
       "      <td>126.0</td>\n",
       "      <td>65535.0</td>\n",
       "      <td>65535.0</td>\n",
       "      <td>65535.0</td>\n",
       "      <td>65535.0</td>\n",
       "      <td>Windows</td>\n",
       "    </tr>\n",
       "  </tbody>\n",
       "</table>\n",
       "<p>52310 rows × 8 columns</p>\n",
       "</div>"
      ],
      "text/plain": [
       "        SYN size  TCP win  TCP SYN TTL  HTTP UA OS  HTTP UA OS MAJ  \\\n",
       "10771       52.0  64240.0        126.0     65535.0         65535.0   \n",
       "10775       52.0  64240.0        126.0        68.0            10.0   \n",
       "10777       52.0  64240.0        126.0     65535.0         65535.0   \n",
       "10779       52.0  64240.0        126.0     65535.0         65535.0   \n",
       "10780       52.0  64240.0        126.0     65535.0         65535.0   \n",
       "...          ...      ...          ...         ...             ...   \n",
       "135968      52.0  64240.0        126.0        40.0         65535.0   \n",
       "135969      52.0   8192.0        126.0     65535.0         65535.0   \n",
       "135970      52.0  64240.0        126.0     65535.0         65535.0   \n",
       "135972      52.0  64240.0        126.0     65535.0         65535.0   \n",
       "135975      52.0  17520.0        126.0     65535.0         65535.0   \n",
       "\n",
       "        HTTP UA OS MIN  HTTP UA OS BLD Ground Truth OS  \n",
       "10771          65535.0         65535.0         Windows  \n",
       "10775              0.0         65535.0         Windows  \n",
       "10777          65535.0         65535.0         Windows  \n",
       "10779          65535.0         65535.0         Windows  \n",
       "10780          65535.0         65535.0         Windows  \n",
       "...                ...             ...             ...  \n",
       "135968         65535.0         65535.0         Windows  \n",
       "135969         65535.0         65535.0         Windows  \n",
       "135970         65535.0         65535.0         Windows  \n",
       "135972         65535.0         65535.0         Windows  \n",
       "135975         65535.0         65535.0         Windows  \n",
       "\n",
       "[52310 rows x 8 columns]"
      ]
     },
     "execution_count": 18,
     "metadata": {},
     "output_type": "execute_result"
    }
   ],
   "source": [
    "only_windows"
   ]
  },
  {
   "cell_type": "code",
   "execution_count": 19,
   "id": "resident-expense",
   "metadata": {},
   "outputs": [
    {
     "data": {
      "text/html": [
       "<div>\n",
       "<style scoped>\n",
       "    .dataframe tbody tr th:only-of-type {\n",
       "        vertical-align: middle;\n",
       "    }\n",
       "\n",
       "    .dataframe tbody tr th {\n",
       "        vertical-align: top;\n",
       "    }\n",
       "\n",
       "    .dataframe thead th {\n",
       "        text-align: right;\n",
       "    }\n",
       "</style>\n",
       "<table border=\"1\" class=\"dataframe\">\n",
       "  <thead>\n",
       "    <tr style=\"text-align: right;\">\n",
       "      <th></th>\n",
       "      <th>SYN size</th>\n",
       "      <th>TCP win</th>\n",
       "      <th>TCP SYN TTL</th>\n",
       "      <th>HTTP UA OS</th>\n",
       "      <th>HTTP UA OS MAJ</th>\n",
       "      <th>HTTP UA OS MIN</th>\n",
       "      <th>HTTP UA OS BLD</th>\n",
       "    </tr>\n",
       "  </thead>\n",
       "  <tbody>\n",
       "    <tr>\n",
       "      <th>10771</th>\n",
       "      <td>52.0</td>\n",
       "      <td>64240.0</td>\n",
       "      <td>126.0</td>\n",
       "      <td>65535.0</td>\n",
       "      <td>65535.0</td>\n",
       "      <td>65535.0</td>\n",
       "      <td>65535.0</td>\n",
       "    </tr>\n",
       "    <tr>\n",
       "      <th>10775</th>\n",
       "      <td>52.0</td>\n",
       "      <td>64240.0</td>\n",
       "      <td>126.0</td>\n",
       "      <td>68.0</td>\n",
       "      <td>10.0</td>\n",
       "      <td>0.0</td>\n",
       "      <td>65535.0</td>\n",
       "    </tr>\n",
       "    <tr>\n",
       "      <th>10777</th>\n",
       "      <td>52.0</td>\n",
       "      <td>64240.0</td>\n",
       "      <td>126.0</td>\n",
       "      <td>65535.0</td>\n",
       "      <td>65535.0</td>\n",
       "      <td>65535.0</td>\n",
       "      <td>65535.0</td>\n",
       "    </tr>\n",
       "    <tr>\n",
       "      <th>10779</th>\n",
       "      <td>52.0</td>\n",
       "      <td>64240.0</td>\n",
       "      <td>126.0</td>\n",
       "      <td>65535.0</td>\n",
       "      <td>65535.0</td>\n",
       "      <td>65535.0</td>\n",
       "      <td>65535.0</td>\n",
       "    </tr>\n",
       "    <tr>\n",
       "      <th>10780</th>\n",
       "      <td>52.0</td>\n",
       "      <td>64240.0</td>\n",
       "      <td>126.0</td>\n",
       "      <td>65535.0</td>\n",
       "      <td>65535.0</td>\n",
       "      <td>65535.0</td>\n",
       "      <td>65535.0</td>\n",
       "    </tr>\n",
       "    <tr>\n",
       "      <th>...</th>\n",
       "      <td>...</td>\n",
       "      <td>...</td>\n",
       "      <td>...</td>\n",
       "      <td>...</td>\n",
       "      <td>...</td>\n",
       "      <td>...</td>\n",
       "      <td>...</td>\n",
       "    </tr>\n",
       "    <tr>\n",
       "      <th>135968</th>\n",
       "      <td>52.0</td>\n",
       "      <td>64240.0</td>\n",
       "      <td>126.0</td>\n",
       "      <td>40.0</td>\n",
       "      <td>65535.0</td>\n",
       "      <td>65535.0</td>\n",
       "      <td>65535.0</td>\n",
       "    </tr>\n",
       "    <tr>\n",
       "      <th>135969</th>\n",
       "      <td>52.0</td>\n",
       "      <td>8192.0</td>\n",
       "      <td>126.0</td>\n",
       "      <td>65535.0</td>\n",
       "      <td>65535.0</td>\n",
       "      <td>65535.0</td>\n",
       "      <td>65535.0</td>\n",
       "    </tr>\n",
       "    <tr>\n",
       "      <th>135970</th>\n",
       "      <td>52.0</td>\n",
       "      <td>64240.0</td>\n",
       "      <td>126.0</td>\n",
       "      <td>65535.0</td>\n",
       "      <td>65535.0</td>\n",
       "      <td>65535.0</td>\n",
       "      <td>65535.0</td>\n",
       "    </tr>\n",
       "    <tr>\n",
       "      <th>135972</th>\n",
       "      <td>52.0</td>\n",
       "      <td>64240.0</td>\n",
       "      <td>126.0</td>\n",
       "      <td>65535.0</td>\n",
       "      <td>65535.0</td>\n",
       "      <td>65535.0</td>\n",
       "      <td>65535.0</td>\n",
       "    </tr>\n",
       "    <tr>\n",
       "      <th>135975</th>\n",
       "      <td>52.0</td>\n",
       "      <td>17520.0</td>\n",
       "      <td>126.0</td>\n",
       "      <td>65535.0</td>\n",
       "      <td>65535.0</td>\n",
       "      <td>65535.0</td>\n",
       "      <td>65535.0</td>\n",
       "    </tr>\n",
       "  </tbody>\n",
       "</table>\n",
       "<p>52310 rows × 7 columns</p>\n",
       "</div>"
      ],
      "text/plain": [
       "        SYN size  TCP win  TCP SYN TTL  HTTP UA OS  HTTP UA OS MAJ  \\\n",
       "10771       52.0  64240.0        126.0     65535.0         65535.0   \n",
       "10775       52.0  64240.0        126.0        68.0            10.0   \n",
       "10777       52.0  64240.0        126.0     65535.0         65535.0   \n",
       "10779       52.0  64240.0        126.0     65535.0         65535.0   \n",
       "10780       52.0  64240.0        126.0     65535.0         65535.0   \n",
       "...          ...      ...          ...         ...             ...   \n",
       "135968      52.0  64240.0        126.0        40.0         65535.0   \n",
       "135969      52.0   8192.0        126.0     65535.0         65535.0   \n",
       "135970      52.0  64240.0        126.0     65535.0         65535.0   \n",
       "135972      52.0  64240.0        126.0     65535.0         65535.0   \n",
       "135975      52.0  17520.0        126.0     65535.0         65535.0   \n",
       "\n",
       "        HTTP UA OS MIN  HTTP UA OS BLD  \n",
       "10771          65535.0         65535.0  \n",
       "10775              0.0         65535.0  \n",
       "10777          65535.0         65535.0  \n",
       "10779          65535.0         65535.0  \n",
       "10780          65535.0         65535.0  \n",
       "...                ...             ...  \n",
       "135968         65535.0         65535.0  \n",
       "135969         65535.0         65535.0  \n",
       "135970         65535.0         65535.0  \n",
       "135972         65535.0         65535.0  \n",
       "135975         65535.0         65535.0  \n",
       "\n",
       "[52310 rows x 7 columns]"
      ]
     },
     "execution_count": 19,
     "metadata": {},
     "output_type": "execute_result"
    }
   ],
   "source": [
    "X_win=only_windows.drop(columns=['Ground Truth OS'])\n",
    "X_win"
   ]
  },
  {
   "cell_type": "code",
   "execution_count": 20,
   "id": "lyric-interval",
   "metadata": {},
   "outputs": [],
   "source": [
    "answer_win=[]\n",
    "for i in range(0,52310):\n",
    "    answer_win.append('Windows')"
   ]
  },
  {
   "cell_type": "code",
   "execution_count": 145,
   "id": "flexible-gauge",
   "metadata": {},
   "outputs": [
    {
     "name": "stdout",
     "output_type": "stream",
     "text": [
      "Accuracy for ANN nets is 0.9984515389026954\n"
     ]
    }
   ],
   "source": [
    "prediction=ann_model.predict(X_win)#testing ANN model for Windows\n",
    "score=accuracy_score(answer_win,prediction)\n",
    "print(f'Accuracy for ANN nets is {score}')"
   ]
  },
  {
   "cell_type": "code",
   "execution_count": 146,
   "id": "comprehensive-benefit",
   "metadata": {},
   "outputs": [
    {
     "data": {
      "text/plain": [
       "0.9984515389026954"
      ]
     },
     "execution_count": 146,
     "metadata": {},
     "output_type": "execute_result"
    }
   ],
   "source": [
    "precision_score(answer_win, prediction,average='micro', zero_division='warn')"
   ]
  },
  {
   "cell_type": "code",
   "execution_count": 147,
   "id": "bizarre-herald",
   "metadata": {},
   "outputs": [
    {
     "data": {
      "text/plain": [
       "0.9984515389026954"
      ]
     },
     "execution_count": 147,
     "metadata": {},
     "output_type": "execute_result"
    }
   ],
   "source": [
    "recall_score(answer_win,prediction,average='micro', zero_division='warn')"
   ]
  },
  {
   "cell_type": "code",
   "execution_count": 148,
   "id": "suspected-tennis",
   "metadata": {},
   "outputs": [
    {
     "name": "stdout",
     "output_type": "stream",
     "text": [
      "0.9984515389026954\n",
      "0.9992251695539464\n"
     ]
    }
   ],
   "source": [
    "print(f1_score(answer_win, prediction,average='micro'))\n",
    "print(f1_score(answer_win, prediction,average='weighted'))"
   ]
  },
  {
   "cell_type": "code",
   "execution_count": 167,
   "id": "incredible-excess",
   "metadata": {},
   "outputs": [
    {
     "name": "stdout",
     "output_type": "stream",
     "text": [
      "Accuracy for KNN nets is 0.9974192315044924\n"
     ]
    }
   ],
   "source": [
    "prediction=knn_model.predict(X_win)#testing KNN model for Windows\n",
    "score=accuracy_score(answer_win,prediction)\n",
    "print(f'Accuracy for KNN nets is {score}')"
   ]
  },
  {
   "cell_type": "code",
   "execution_count": 168,
   "id": "agricultural-insurance",
   "metadata": {},
   "outputs": [
    {
     "data": {
      "text/plain": [
       "0.9974192315044924"
      ]
     },
     "execution_count": 168,
     "metadata": {},
     "output_type": "execute_result"
    }
   ],
   "source": [
    "precision_score(answer_win, prediction,average='micro', zero_division='warn')"
   ]
  },
  {
   "cell_type": "code",
   "execution_count": 169,
   "id": "champion-motion",
   "metadata": {},
   "outputs": [
    {
     "data": {
      "text/plain": [
       "0.9974192315044924"
      ]
     },
     "execution_count": 169,
     "metadata": {},
     "output_type": "execute_result"
    }
   ],
   "source": [
    "recall_score(answer_win,prediction,average='micro', zero_division='warn')"
   ]
  },
  {
   "cell_type": "code",
   "execution_count": 170,
   "id": "positive-fantasy",
   "metadata": {},
   "outputs": [
    {
     "name": "stdout",
     "output_type": "stream",
     "text": [
      "0.9974192315044924\n",
      "0.9987079485093554\n"
     ]
    }
   ],
   "source": [
    "print(f1_score(answer_win, prediction,average='micro'))\n",
    "print(f1_score(answer_win, prediction,average='weighted'))"
   ]
  },
  {
   "cell_type": "code",
   "execution_count": 190,
   "id": "separated-sheriff",
   "metadata": {},
   "outputs": [
    {
     "name": "stdout",
     "output_type": "stream",
     "text": [
      "Accuracy for Decision Tree nets is 0.9975148155228446\n"
     ]
    }
   ],
   "source": [
    "prediction=DecisionTree_model.predict(X_win)#testing Decision Tree model for Windows\n",
    "score=accuracy_score(answer_win,prediction)\n",
    "print(f'Accuracy for Decision Tree nets is {score}')"
   ]
  },
  {
   "cell_type": "code",
   "execution_count": 191,
   "id": "pending-process",
   "metadata": {},
   "outputs": [
    {
     "data": {
      "text/plain": [
       "0.9975148155228446"
      ]
     },
     "execution_count": 191,
     "metadata": {},
     "output_type": "execute_result"
    }
   ],
   "source": [
    "precision_score(answer_win, prediction,average='micro', zero_division='warn')"
   ]
  },
  {
   "cell_type": "code",
   "execution_count": 192,
   "id": "significant-thompson",
   "metadata": {},
   "outputs": [
    {
     "data": {
      "text/plain": [
       "0.9975148155228446"
      ]
     },
     "execution_count": 192,
     "metadata": {},
     "output_type": "execute_result"
    }
   ],
   "source": [
    "recall_score(answer_win,prediction,average='micro', zero_division='warn')"
   ]
  },
  {
   "cell_type": "code",
   "execution_count": 193,
   "id": "ranking-scout",
   "metadata": {},
   "outputs": [
    {
     "name": "stdout",
     "output_type": "stream",
     "text": [
      "0.9975148155228446\n",
      "0.9987558618049575\n"
     ]
    }
   ],
   "source": [
    "print(f1_score(answer_win, prediction,average='micro'))\n",
    "print(f1_score(answer_win, prediction,average='weighted'))"
   ]
  },
  {
   "cell_type": "code",
   "execution_count": 213,
   "id": "developing-simon",
   "metadata": {},
   "outputs": [
    {
     "name": "stdout",
     "output_type": "stream",
     "text": [
      "Accuracy for Random Forest nets is 0.997533932326515\n"
     ]
    }
   ],
   "source": [
    "prediction=ranfor_model.predict(X_win)#testing Random Forest model for Windows\n",
    "score=accuracy_score(answer_win,prediction)\n",
    "print(f'Accuracy for Random Forest nets is {score}')"
   ]
  },
  {
   "cell_type": "code",
   "execution_count": 214,
   "id": "governing-tourist",
   "metadata": {},
   "outputs": [
    {
     "data": {
      "text/plain": [
       "0.997533932326515"
      ]
     },
     "execution_count": 214,
     "metadata": {},
     "output_type": "execute_result"
    }
   ],
   "source": [
    "precision_score(answer_win, prediction,average='micro', zero_division='warn')"
   ]
  },
  {
   "cell_type": "code",
   "execution_count": 215,
   "id": "weird-characteristic",
   "metadata": {},
   "outputs": [
    {
     "data": {
      "text/plain": [
       "0.997533932326515"
      ]
     },
     "execution_count": 215,
     "metadata": {},
     "output_type": "execute_result"
    }
   ],
   "source": [
    "recall_score(answer_win,prediction,average='micro', zero_division='warn')"
   ]
  },
  {
   "cell_type": "code",
   "execution_count": 216,
   "id": "educated-transfer",
   "metadata": {},
   "outputs": [
    {
     "name": "stdout",
     "output_type": "stream",
     "text": [
      "0.997533932326515\n",
      "0.9987654439138299\n"
     ]
    }
   ],
   "source": [
    "print(f1_score(answer_win, prediction,average='micro'))\n",
    "print(f1_score(answer_win, prediction,average='weighted'))"
   ]
  },
  {
   "cell_type": "code",
   "execution_count": 21,
   "id": "missing-productivity",
   "metadata": {},
   "outputs": [
    {
     "name": "stdout",
     "output_type": "stream",
     "text": [
      "Accuracy for Naive Bayes model is 0.749015484610973\n"
     ]
    }
   ],
   "source": [
    "prediction=bayes_model.predict(X_win)#testing Naive Bayes model for Windows\n",
    "score=accuracy_score(answer_win,prediction)\n",
    "print(f'Accuracy for Naive Bayes model is {score}')"
   ]
  },
  {
   "cell_type": "code",
   "execution_count": 22,
   "id": "differential-animation",
   "metadata": {},
   "outputs": [
    {
     "data": {
      "text/plain": [
       "0.749015484610973"
      ]
     },
     "execution_count": 22,
     "metadata": {},
     "output_type": "execute_result"
    }
   ],
   "source": [
    "precision_score(answer_win, prediction,average='micro', zero_division='warn')"
   ]
  },
  {
   "cell_type": "code",
   "execution_count": 23,
   "id": "korean-temperature",
   "metadata": {},
   "outputs": [
    {
     "data": {
      "text/plain": [
       "0.749015484610973"
      ]
     },
     "execution_count": 23,
     "metadata": {},
     "output_type": "execute_result"
    }
   ],
   "source": [
    "recall_score(answer_win,prediction,average='micro', zero_division='warn')"
   ]
  },
  {
   "cell_type": "code",
   "execution_count": 24,
   "id": "pediatric-aspect",
   "metadata": {},
   "outputs": [
    {
     "name": "stdout",
     "output_type": "stream",
     "text": [
      "0.749015484610973\n",
      "0.8564995464034713\n"
     ]
    }
   ],
   "source": [
    "print(f1_score(answer_win, prediction,average='micro'))\n",
    "print(f1_score(answer_win, prediction,average='weighted'))"
   ]
  },
  {
   "cell_type": "code",
   "execution_count": 25,
   "id": "dirty-bathroom",
   "metadata": {},
   "outputs": [
    {
     "data": {
      "text/html": [
       "<div>\n",
       "<style scoped>\n",
       "    .dataframe tbody tr th:only-of-type {\n",
       "        vertical-align: middle;\n",
       "    }\n",
       "\n",
       "    .dataframe tbody tr th {\n",
       "        vertical-align: top;\n",
       "    }\n",
       "\n",
       "    .dataframe thead th {\n",
       "        text-align: right;\n",
       "    }\n",
       "</style>\n",
       "<table border=\"1\" class=\"dataframe\">\n",
       "  <thead>\n",
       "    <tr style=\"text-align: right;\">\n",
       "      <th></th>\n",
       "      <th>SYN size</th>\n",
       "      <th>TCP win</th>\n",
       "      <th>TCP SYN TTL</th>\n",
       "      <th>HTTP UA OS</th>\n",
       "      <th>HTTP UA OS MAJ</th>\n",
       "      <th>HTTP UA OS MIN</th>\n",
       "      <th>HTTP UA OS BLD</th>\n",
       "      <th>Ground Truth OS</th>\n",
       "    </tr>\n",
       "  </thead>\n",
       "  <tbody>\n",
       "    <tr>\n",
       "      <th>10772</th>\n",
       "      <td>64.0</td>\n",
       "      <td>65535.0</td>\n",
       "      <td>62.0</td>\n",
       "      <td>65535.0</td>\n",
       "      <td>65535.0</td>\n",
       "      <td>65535.0</td>\n",
       "      <td>65535.0</td>\n",
       "      <td>iOS</td>\n",
       "    </tr>\n",
       "    <tr>\n",
       "      <th>10776</th>\n",
       "      <td>64.0</td>\n",
       "      <td>65535.0</td>\n",
       "      <td>62.0</td>\n",
       "      <td>65535.0</td>\n",
       "      <td>65535.0</td>\n",
       "      <td>65535.0</td>\n",
       "      <td>65535.0</td>\n",
       "      <td>iOS</td>\n",
       "    </tr>\n",
       "    <tr>\n",
       "      <th>10785</th>\n",
       "      <td>64.0</td>\n",
       "      <td>65535.0</td>\n",
       "      <td>62.0</td>\n",
       "      <td>4.0</td>\n",
       "      <td>12.0</td>\n",
       "      <td>1.0</td>\n",
       "      <td>1.0</td>\n",
       "      <td>iOS</td>\n",
       "    </tr>\n",
       "    <tr>\n",
       "      <th>10812</th>\n",
       "      <td>64.0</td>\n",
       "      <td>65535.0</td>\n",
       "      <td>62.0</td>\n",
       "      <td>65535.0</td>\n",
       "      <td>65535.0</td>\n",
       "      <td>65535.0</td>\n",
       "      <td>65535.0</td>\n",
       "      <td>iOS</td>\n",
       "    </tr>\n",
       "    <tr>\n",
       "      <th>10828</th>\n",
       "      <td>64.0</td>\n",
       "      <td>65535.0</td>\n",
       "      <td>62.0</td>\n",
       "      <td>4.0</td>\n",
       "      <td>65535.0</td>\n",
       "      <td>65535.0</td>\n",
       "      <td>65535.0</td>\n",
       "      <td>iOS</td>\n",
       "    </tr>\n",
       "    <tr>\n",
       "      <th>...</th>\n",
       "      <td>...</td>\n",
       "      <td>...</td>\n",
       "      <td>...</td>\n",
       "      <td>...</td>\n",
       "      <td>...</td>\n",
       "      <td>...</td>\n",
       "      <td>...</td>\n",
       "      <td>...</td>\n",
       "    </tr>\n",
       "    <tr>\n",
       "      <th>135894</th>\n",
       "      <td>64.0</td>\n",
       "      <td>65535.0</td>\n",
       "      <td>62.0</td>\n",
       "      <td>65535.0</td>\n",
       "      <td>65535.0</td>\n",
       "      <td>65535.0</td>\n",
       "      <td>65535.0</td>\n",
       "      <td>iOS</td>\n",
       "    </tr>\n",
       "    <tr>\n",
       "      <th>135896</th>\n",
       "      <td>64.0</td>\n",
       "      <td>65535.0</td>\n",
       "      <td>62.0</td>\n",
       "      <td>65535.0</td>\n",
       "      <td>65535.0</td>\n",
       "      <td>65535.0</td>\n",
       "      <td>65535.0</td>\n",
       "      <td>iOS</td>\n",
       "    </tr>\n",
       "    <tr>\n",
       "      <th>135913</th>\n",
       "      <td>64.0</td>\n",
       "      <td>65535.0</td>\n",
       "      <td>62.0</td>\n",
       "      <td>65535.0</td>\n",
       "      <td>65535.0</td>\n",
       "      <td>65535.0</td>\n",
       "      <td>65535.0</td>\n",
       "      <td>iOS</td>\n",
       "    </tr>\n",
       "    <tr>\n",
       "      <th>135949</th>\n",
       "      <td>64.0</td>\n",
       "      <td>65535.0</td>\n",
       "      <td>62.0</td>\n",
       "      <td>65535.0</td>\n",
       "      <td>65535.0</td>\n",
       "      <td>65535.0</td>\n",
       "      <td>65535.0</td>\n",
       "      <td>iOS</td>\n",
       "    </tr>\n",
       "    <tr>\n",
       "      <th>135961</th>\n",
       "      <td>64.0</td>\n",
       "      <td>65535.0</td>\n",
       "      <td>62.0</td>\n",
       "      <td>65535.0</td>\n",
       "      <td>65535.0</td>\n",
       "      <td>65535.0</td>\n",
       "      <td>65535.0</td>\n",
       "      <td>iOS</td>\n",
       "    </tr>\n",
       "  </tbody>\n",
       "</table>\n",
       "<p>20110 rows × 8 columns</p>\n",
       "</div>"
      ],
      "text/plain": [
       "        SYN size  TCP win  TCP SYN TTL  HTTP UA OS  HTTP UA OS MAJ  \\\n",
       "10772       64.0  65535.0         62.0     65535.0         65535.0   \n",
       "10776       64.0  65535.0         62.0     65535.0         65535.0   \n",
       "10785       64.0  65535.0         62.0         4.0            12.0   \n",
       "10812       64.0  65535.0         62.0     65535.0         65535.0   \n",
       "10828       64.0  65535.0         62.0         4.0         65535.0   \n",
       "...          ...      ...          ...         ...             ...   \n",
       "135894      64.0  65535.0         62.0     65535.0         65535.0   \n",
       "135896      64.0  65535.0         62.0     65535.0         65535.0   \n",
       "135913      64.0  65535.0         62.0     65535.0         65535.0   \n",
       "135949      64.0  65535.0         62.0     65535.0         65535.0   \n",
       "135961      64.0  65535.0         62.0     65535.0         65535.0   \n",
       "\n",
       "        HTTP UA OS MIN  HTTP UA OS BLD Ground Truth OS  \n",
       "10772          65535.0         65535.0             iOS  \n",
       "10776          65535.0         65535.0             iOS  \n",
       "10785              1.0             1.0             iOS  \n",
       "10812          65535.0         65535.0             iOS  \n",
       "10828          65535.0         65535.0             iOS  \n",
       "...                ...             ...             ...  \n",
       "135894         65535.0         65535.0             iOS  \n",
       "135896         65535.0         65535.0             iOS  \n",
       "135913         65535.0         65535.0             iOS  \n",
       "135949         65535.0         65535.0             iOS  \n",
       "135961         65535.0         65535.0             iOS  \n",
       "\n",
       "[20110 rows x 8 columns]"
      ]
     },
     "execution_count": 25,
     "metadata": {},
     "output_type": "execute_result"
    }
   ],
   "source": [
    "only_iOS"
   ]
  },
  {
   "cell_type": "code",
   "execution_count": 26,
   "id": "european-ordinary",
   "metadata": {},
   "outputs": [
    {
     "data": {
      "text/html": [
       "<div>\n",
       "<style scoped>\n",
       "    .dataframe tbody tr th:only-of-type {\n",
       "        vertical-align: middle;\n",
       "    }\n",
       "\n",
       "    .dataframe tbody tr th {\n",
       "        vertical-align: top;\n",
       "    }\n",
       "\n",
       "    .dataframe thead th {\n",
       "        text-align: right;\n",
       "    }\n",
       "</style>\n",
       "<table border=\"1\" class=\"dataframe\">\n",
       "  <thead>\n",
       "    <tr style=\"text-align: right;\">\n",
       "      <th></th>\n",
       "      <th>SYN size</th>\n",
       "      <th>TCP win</th>\n",
       "      <th>TCP SYN TTL</th>\n",
       "      <th>HTTP UA OS</th>\n",
       "      <th>HTTP UA OS MAJ</th>\n",
       "      <th>HTTP UA OS MIN</th>\n",
       "      <th>HTTP UA OS BLD</th>\n",
       "    </tr>\n",
       "  </thead>\n",
       "  <tbody>\n",
       "    <tr>\n",
       "      <th>10772</th>\n",
       "      <td>64.0</td>\n",
       "      <td>65535.0</td>\n",
       "      <td>62.0</td>\n",
       "      <td>65535.0</td>\n",
       "      <td>65535.0</td>\n",
       "      <td>65535.0</td>\n",
       "      <td>65535.0</td>\n",
       "    </tr>\n",
       "    <tr>\n",
       "      <th>10776</th>\n",
       "      <td>64.0</td>\n",
       "      <td>65535.0</td>\n",
       "      <td>62.0</td>\n",
       "      <td>65535.0</td>\n",
       "      <td>65535.0</td>\n",
       "      <td>65535.0</td>\n",
       "      <td>65535.0</td>\n",
       "    </tr>\n",
       "    <tr>\n",
       "      <th>10785</th>\n",
       "      <td>64.0</td>\n",
       "      <td>65535.0</td>\n",
       "      <td>62.0</td>\n",
       "      <td>4.0</td>\n",
       "      <td>12.0</td>\n",
       "      <td>1.0</td>\n",
       "      <td>1.0</td>\n",
       "    </tr>\n",
       "    <tr>\n",
       "      <th>10812</th>\n",
       "      <td>64.0</td>\n",
       "      <td>65535.0</td>\n",
       "      <td>62.0</td>\n",
       "      <td>65535.0</td>\n",
       "      <td>65535.0</td>\n",
       "      <td>65535.0</td>\n",
       "      <td>65535.0</td>\n",
       "    </tr>\n",
       "    <tr>\n",
       "      <th>10828</th>\n",
       "      <td>64.0</td>\n",
       "      <td>65535.0</td>\n",
       "      <td>62.0</td>\n",
       "      <td>4.0</td>\n",
       "      <td>65535.0</td>\n",
       "      <td>65535.0</td>\n",
       "      <td>65535.0</td>\n",
       "    </tr>\n",
       "    <tr>\n",
       "      <th>...</th>\n",
       "      <td>...</td>\n",
       "      <td>...</td>\n",
       "      <td>...</td>\n",
       "      <td>...</td>\n",
       "      <td>...</td>\n",
       "      <td>...</td>\n",
       "      <td>...</td>\n",
       "    </tr>\n",
       "    <tr>\n",
       "      <th>135894</th>\n",
       "      <td>64.0</td>\n",
       "      <td>65535.0</td>\n",
       "      <td>62.0</td>\n",
       "      <td>65535.0</td>\n",
       "      <td>65535.0</td>\n",
       "      <td>65535.0</td>\n",
       "      <td>65535.0</td>\n",
       "    </tr>\n",
       "    <tr>\n",
       "      <th>135896</th>\n",
       "      <td>64.0</td>\n",
       "      <td>65535.0</td>\n",
       "      <td>62.0</td>\n",
       "      <td>65535.0</td>\n",
       "      <td>65535.0</td>\n",
       "      <td>65535.0</td>\n",
       "      <td>65535.0</td>\n",
       "    </tr>\n",
       "    <tr>\n",
       "      <th>135913</th>\n",
       "      <td>64.0</td>\n",
       "      <td>65535.0</td>\n",
       "      <td>62.0</td>\n",
       "      <td>65535.0</td>\n",
       "      <td>65535.0</td>\n",
       "      <td>65535.0</td>\n",
       "      <td>65535.0</td>\n",
       "    </tr>\n",
       "    <tr>\n",
       "      <th>135949</th>\n",
       "      <td>64.0</td>\n",
       "      <td>65535.0</td>\n",
       "      <td>62.0</td>\n",
       "      <td>65535.0</td>\n",
       "      <td>65535.0</td>\n",
       "      <td>65535.0</td>\n",
       "      <td>65535.0</td>\n",
       "    </tr>\n",
       "    <tr>\n",
       "      <th>135961</th>\n",
       "      <td>64.0</td>\n",
       "      <td>65535.0</td>\n",
       "      <td>62.0</td>\n",
       "      <td>65535.0</td>\n",
       "      <td>65535.0</td>\n",
       "      <td>65535.0</td>\n",
       "      <td>65535.0</td>\n",
       "    </tr>\n",
       "  </tbody>\n",
       "</table>\n",
       "<p>20110 rows × 7 columns</p>\n",
       "</div>"
      ],
      "text/plain": [
       "        SYN size  TCP win  TCP SYN TTL  HTTP UA OS  HTTP UA OS MAJ  \\\n",
       "10772       64.0  65535.0         62.0     65535.0         65535.0   \n",
       "10776       64.0  65535.0         62.0     65535.0         65535.0   \n",
       "10785       64.0  65535.0         62.0         4.0            12.0   \n",
       "10812       64.0  65535.0         62.0     65535.0         65535.0   \n",
       "10828       64.0  65535.0         62.0         4.0         65535.0   \n",
       "...          ...      ...          ...         ...             ...   \n",
       "135894      64.0  65535.0         62.0     65535.0         65535.0   \n",
       "135896      64.0  65535.0         62.0     65535.0         65535.0   \n",
       "135913      64.0  65535.0         62.0     65535.0         65535.0   \n",
       "135949      64.0  65535.0         62.0     65535.0         65535.0   \n",
       "135961      64.0  65535.0         62.0     65535.0         65535.0   \n",
       "\n",
       "        HTTP UA OS MIN  HTTP UA OS BLD  \n",
       "10772          65535.0         65535.0  \n",
       "10776          65535.0         65535.0  \n",
       "10785              1.0             1.0  \n",
       "10812          65535.0         65535.0  \n",
       "10828          65535.0         65535.0  \n",
       "...                ...             ...  \n",
       "135894         65535.0         65535.0  \n",
       "135896         65535.0         65535.0  \n",
       "135913         65535.0         65535.0  \n",
       "135949         65535.0         65535.0  \n",
       "135961         65535.0         65535.0  \n",
       "\n",
       "[20110 rows x 7 columns]"
      ]
     },
     "execution_count": 26,
     "metadata": {},
     "output_type": "execute_result"
    }
   ],
   "source": [
    "X_ios=only_iOS.drop(columns=['Ground Truth OS'])\n",
    "X_ios"
   ]
  },
  {
   "cell_type": "code",
   "execution_count": 27,
   "id": "operating-neighbor",
   "metadata": {},
   "outputs": [],
   "source": [
    "answer_ios=[]\n",
    "for i in range(0,20110):\n",
    "    answer_ios.append('iOS')"
   ]
  },
  {
   "cell_type": "code",
   "execution_count": 149,
   "id": "controlled-tonight",
   "metadata": {},
   "outputs": [
    {
     "name": "stdout",
     "output_type": "stream",
     "text": [
      "Accuracy for ANN nets is 0.2685728493286922\n"
     ]
    }
   ],
   "source": [
    "prediction=ann_model.predict(X_ios)#testing ANN model for iOS\n",
    "score=accuracy_score(answer_ios,prediction)\n",
    "print(f'Accuracy for ANN nets is {score}')"
   ]
  },
  {
   "cell_type": "code",
   "execution_count": 150,
   "id": "alleged-telephone",
   "metadata": {},
   "outputs": [
    {
     "data": {
      "text/plain": [
       "0.2685728493286922"
      ]
     },
     "execution_count": 150,
     "metadata": {},
     "output_type": "execute_result"
    }
   ],
   "source": [
    "precision_score(answer_ios, prediction,average='micro', zero_division='warn')"
   ]
  },
  {
   "cell_type": "code",
   "execution_count": 151,
   "id": "northern-damage",
   "metadata": {},
   "outputs": [
    {
     "data": {
      "text/plain": [
       "0.2685728493286922"
      ]
     },
     "execution_count": 151,
     "metadata": {},
     "output_type": "execute_result"
    }
   ],
   "source": [
    "recall_score(answer_ios,prediction,average='micro', zero_division='warn')"
   ]
  },
  {
   "cell_type": "code",
   "execution_count": 41,
   "id": "sought-hawaii",
   "metadata": {},
   "outputs": [
    {
     "name": "stdout",
     "output_type": "stream",
     "text": [
      "0.2883639980109398\n",
      "0.44764367594272253\n"
     ]
    }
   ],
   "source": [
    "print(f1_score(answer_ios, prediction,average='micro'))\n",
    "print(f1_score(answer_ios, prediction,average='weighted'))"
   ]
  },
  {
   "cell_type": "code",
   "execution_count": 171,
   "id": "instrumental-hostel",
   "metadata": {},
   "outputs": [
    {
     "name": "stdout",
     "output_type": "stream",
     "text": [
      "Accuracy for KNN nets is 0.9384883142715067\n"
     ]
    }
   ],
   "source": [
    "prediction=knn_model.predict(X_ios)#testing KNN model for iOS\n",
    "score=accuracy_score(answer_ios,prediction)\n",
    "print(f'Accuracy for KNN nets is {score}')"
   ]
  },
  {
   "cell_type": "code",
   "execution_count": 172,
   "id": "split-treat",
   "metadata": {},
   "outputs": [
    {
     "data": {
      "text/plain": [
       "0.9384883142715067"
      ]
     },
     "execution_count": 172,
     "metadata": {},
     "output_type": "execute_result"
    }
   ],
   "source": [
    "precision_score(answer_ios, prediction,average='micro', zero_division='warn')"
   ]
  },
  {
   "cell_type": "code",
   "execution_count": 173,
   "id": "acting-skiing",
   "metadata": {},
   "outputs": [
    {
     "data": {
      "text/plain": [
       "0.9384883142715067"
      ]
     },
     "execution_count": 173,
     "metadata": {},
     "output_type": "execute_result"
    }
   ],
   "source": [
    "recall_score(answer_ios,prediction,average='micro', zero_division='warn')"
   ]
  },
  {
   "cell_type": "code",
   "execution_count": 174,
   "id": "accepting-tuesday",
   "metadata": {},
   "outputs": [
    {
     "name": "stdout",
     "output_type": "stream",
     "text": [
      "0.9384883142715068\n",
      "0.9682682194802863\n"
     ]
    }
   ],
   "source": [
    "print(f1_score(answer_ios, prediction,average='micro'))\n",
    "print(f1_score(answer_ios, prediction,average='weighted'))"
   ]
  },
  {
   "cell_type": "code",
   "execution_count": 194,
   "id": "heated-interview",
   "metadata": {},
   "outputs": [
    {
     "name": "stdout",
     "output_type": "stream",
     "text": [
      "Accuracy for Decision Tree nets is 0.9407757334659373\n"
     ]
    }
   ],
   "source": [
    "prediction=DecisionTree_model.predict(X_ios)#testing Decision Tree model for iOS\n",
    "score=accuracy_score(answer_ios,prediction)\n",
    "print(f'Accuracy for Decision Tree nets is {score}')"
   ]
  },
  {
   "cell_type": "code",
   "execution_count": 195,
   "id": "divided-client",
   "metadata": {},
   "outputs": [
    {
     "data": {
      "text/plain": [
       "0.9407757334659373"
      ]
     },
     "execution_count": 195,
     "metadata": {},
     "output_type": "execute_result"
    }
   ],
   "source": [
    "precision_score(answer_ios, prediction,average='micro', zero_division='warn')"
   ]
  },
  {
   "cell_type": "code",
   "execution_count": 196,
   "id": "surface-naples",
   "metadata": {},
   "outputs": [
    {
     "data": {
      "text/plain": [
       "0.9407757334659373"
      ]
     },
     "execution_count": 196,
     "metadata": {},
     "output_type": "execute_result"
    }
   ],
   "source": [
    "recall_score(answer_ios,prediction,average='micro', zero_division='warn')"
   ]
  },
  {
   "cell_type": "code",
   "execution_count": 197,
   "id": "compliant-radar",
   "metadata": {},
   "outputs": [
    {
     "name": "stdout",
     "output_type": "stream",
     "text": [
      "0.9407757334659373\n",
      "0.9694842296753695\n"
     ]
    }
   ],
   "source": [
    "print(f1_score(answer_ios, prediction,average='micro'))\n",
    "print(f1_score(answer_ios, prediction,average='weighted'))"
   ]
  },
  {
   "cell_type": "code",
   "execution_count": 217,
   "id": "center-gilbert",
   "metadata": {},
   "outputs": [
    {
     "name": "stdout",
     "output_type": "stream",
     "text": [
      "Accuracy for Random Forest nets is 0.9407757334659373\n"
     ]
    }
   ],
   "source": [
    "prediction=ranfor_model.predict(X_ios)#testing Random Forest model for iOS\n",
    "score=accuracy_score(answer_ios,prediction)\n",
    "print(f'Accuracy for Random Forest nets is {score}')"
   ]
  },
  {
   "cell_type": "code",
   "execution_count": 218,
   "id": "serious-viewer",
   "metadata": {},
   "outputs": [
    {
     "data": {
      "text/plain": [
       "0.9407757334659373"
      ]
     },
     "execution_count": 218,
     "metadata": {},
     "output_type": "execute_result"
    }
   ],
   "source": [
    "precision_score(answer_ios, prediction,average='micro', zero_division='warn')"
   ]
  },
  {
   "cell_type": "code",
   "execution_count": 219,
   "id": "heated-second",
   "metadata": {},
   "outputs": [
    {
     "data": {
      "text/plain": [
       "0.9407757334659373"
      ]
     },
     "execution_count": 219,
     "metadata": {},
     "output_type": "execute_result"
    }
   ],
   "source": [
    "recall_score(answer_ios,prediction,average='micro', zero_division='warn')"
   ]
  },
  {
   "cell_type": "code",
   "execution_count": 47,
   "id": "intermediate-rendering",
   "metadata": {},
   "outputs": [
    {
     "name": "stdout",
     "output_type": "stream",
     "text": [
      "0.9409249129786176\n",
      "0.9695634351301496\n"
     ]
    }
   ],
   "source": [
    "print(f1_score(answer_ios, prediction,average='micro'))\n",
    "print(f1_score(answer_ios, prediction,average='weighted'))"
   ]
  },
  {
   "cell_type": "code",
   "execution_count": 28,
   "id": "australian-marble",
   "metadata": {},
   "outputs": [
    {
     "name": "stdout",
     "output_type": "stream",
     "text": [
      "Accuracy for Naive Bayes model is 0.0\n"
     ]
    }
   ],
   "source": [
    "prediction=bayes_model.predict(X_ios)#testing Naive Bayes model for Windows\n",
    "score=accuracy_score(answer_ios,prediction)\n",
    "print(f'Accuracy for Naive Bayes model is {score}')"
   ]
  },
  {
   "cell_type": "code",
   "execution_count": 29,
   "id": "universal-advocacy",
   "metadata": {},
   "outputs": [
    {
     "data": {
      "text/plain": [
       "0.0"
      ]
     },
     "execution_count": 29,
     "metadata": {},
     "output_type": "execute_result"
    }
   ],
   "source": [
    "precision_score(answer_ios, prediction,average='micro', zero_division='warn')"
   ]
  },
  {
   "cell_type": "code",
   "execution_count": 30,
   "id": "sharp-termination",
   "metadata": {},
   "outputs": [
    {
     "data": {
      "text/plain": [
       "0.0"
      ]
     },
     "execution_count": 30,
     "metadata": {},
     "output_type": "execute_result"
    }
   ],
   "source": [
    "recall_score(answer_ios,prediction,average='micro', zero_division='warn')"
   ]
  },
  {
   "cell_type": "code",
   "execution_count": 31,
   "id": "palestinian-guyana",
   "metadata": {},
   "outputs": [
    {
     "name": "stdout",
     "output_type": "stream",
     "text": [
      "0.0\n",
      "0.0\n"
     ]
    }
   ],
   "source": [
    "print(f1_score(answer_ios, prediction,average='micro'))\n",
    "print(f1_score(answer_ios, prediction,average='weighted'))"
   ]
  },
  {
   "cell_type": "code",
   "execution_count": 32,
   "id": "victorian-merchant",
   "metadata": {},
   "outputs": [
    {
     "data": {
      "text/html": [
       "<div>\n",
       "<style scoped>\n",
       "    .dataframe tbody tr th:only-of-type {\n",
       "        vertical-align: middle;\n",
       "    }\n",
       "\n",
       "    .dataframe tbody tr th {\n",
       "        vertical-align: top;\n",
       "    }\n",
       "\n",
       "    .dataframe thead th {\n",
       "        text-align: right;\n",
       "    }\n",
       "</style>\n",
       "<table border=\"1\" class=\"dataframe\">\n",
       "  <thead>\n",
       "    <tr style=\"text-align: right;\">\n",
       "      <th></th>\n",
       "      <th>SYN size</th>\n",
       "      <th>TCP win</th>\n",
       "      <th>TCP SYN TTL</th>\n",
       "      <th>HTTP UA OS</th>\n",
       "      <th>HTTP UA OS MAJ</th>\n",
       "      <th>HTTP UA OS MIN</th>\n",
       "      <th>HTTP UA OS BLD</th>\n",
       "      <th>Ground Truth OS</th>\n",
       "    </tr>\n",
       "  </thead>\n",
       "  <tbody>\n",
       "    <tr>\n",
       "      <th>11003</th>\n",
       "      <td>64.0</td>\n",
       "      <td>65535.0</td>\n",
       "      <td>62.0</td>\n",
       "      <td>15.0</td>\n",
       "      <td>18.0</td>\n",
       "      <td>6.0</td>\n",
       "      <td>0.0</td>\n",
       "      <td>Mac OS</td>\n",
       "    </tr>\n",
       "    <tr>\n",
       "      <th>11289</th>\n",
       "      <td>64.0</td>\n",
       "      <td>65535.0</td>\n",
       "      <td>62.0</td>\n",
       "      <td>65535.0</td>\n",
       "      <td>65535.0</td>\n",
       "      <td>65535.0</td>\n",
       "      <td>65535.0</td>\n",
       "      <td>Mac OS</td>\n",
       "    </tr>\n",
       "    <tr>\n",
       "      <th>11314</th>\n",
       "      <td>64.0</td>\n",
       "      <td>65535.0</td>\n",
       "      <td>62.0</td>\n",
       "      <td>65535.0</td>\n",
       "      <td>65535.0</td>\n",
       "      <td>65535.0</td>\n",
       "      <td>65535.0</td>\n",
       "      <td>Mac OS</td>\n",
       "    </tr>\n",
       "    <tr>\n",
       "      <th>21206</th>\n",
       "      <td>64.0</td>\n",
       "      <td>65535.0</td>\n",
       "      <td>62.0</td>\n",
       "      <td>6.0</td>\n",
       "      <td>10.0</td>\n",
       "      <td>12.0</td>\n",
       "      <td>65535.0</td>\n",
       "      <td>Mac OS</td>\n",
       "    </tr>\n",
       "    <tr>\n",
       "      <th>21216</th>\n",
       "      <td>64.0</td>\n",
       "      <td>65535.0</td>\n",
       "      <td>62.0</td>\n",
       "      <td>65535.0</td>\n",
       "      <td>65535.0</td>\n",
       "      <td>65535.0</td>\n",
       "      <td>65535.0</td>\n",
       "      <td>Mac OS</td>\n",
       "    </tr>\n",
       "    <tr>\n",
       "      <th>...</th>\n",
       "      <td>...</td>\n",
       "      <td>...</td>\n",
       "      <td>...</td>\n",
       "      <td>...</td>\n",
       "      <td>...</td>\n",
       "      <td>...</td>\n",
       "      <td>...</td>\n",
       "      <td>...</td>\n",
       "    </tr>\n",
       "    <tr>\n",
       "      <th>135853</th>\n",
       "      <td>64.0</td>\n",
       "      <td>65535.0</td>\n",
       "      <td>62.0</td>\n",
       "      <td>6.0</td>\n",
       "      <td>65535.0</td>\n",
       "      <td>65535.0</td>\n",
       "      <td>65535.0</td>\n",
       "      <td>Mac OS</td>\n",
       "    </tr>\n",
       "    <tr>\n",
       "      <th>135855</th>\n",
       "      <td>64.0</td>\n",
       "      <td>65535.0</td>\n",
       "      <td>62.0</td>\n",
       "      <td>6.0</td>\n",
       "      <td>65535.0</td>\n",
       "      <td>65535.0</td>\n",
       "      <td>65535.0</td>\n",
       "      <td>Mac OS</td>\n",
       "    </tr>\n",
       "    <tr>\n",
       "      <th>135901</th>\n",
       "      <td>64.0</td>\n",
       "      <td>65535.0</td>\n",
       "      <td>62.0</td>\n",
       "      <td>15.0</td>\n",
       "      <td>15.0</td>\n",
       "      <td>6.0</td>\n",
       "      <td>0.0</td>\n",
       "      <td>Mac OS</td>\n",
       "    </tr>\n",
       "    <tr>\n",
       "      <th>135931</th>\n",
       "      <td>64.0</td>\n",
       "      <td>65535.0</td>\n",
       "      <td>62.0</td>\n",
       "      <td>65535.0</td>\n",
       "      <td>65535.0</td>\n",
       "      <td>65535.0</td>\n",
       "      <td>65535.0</td>\n",
       "      <td>Mac OS</td>\n",
       "    </tr>\n",
       "    <tr>\n",
       "      <th>135945</th>\n",
       "      <td>64.0</td>\n",
       "      <td>65535.0</td>\n",
       "      <td>62.0</td>\n",
       "      <td>65535.0</td>\n",
       "      <td>65535.0</td>\n",
       "      <td>65535.0</td>\n",
       "      <td>65535.0</td>\n",
       "      <td>Mac OS</td>\n",
       "    </tr>\n",
       "  </tbody>\n",
       "</table>\n",
       "<p>15701 rows × 8 columns</p>\n",
       "</div>"
      ],
      "text/plain": [
       "        SYN size  TCP win  TCP SYN TTL  HTTP UA OS  HTTP UA OS MAJ  \\\n",
       "11003       64.0  65535.0         62.0        15.0            18.0   \n",
       "11289       64.0  65535.0         62.0     65535.0         65535.0   \n",
       "11314       64.0  65535.0         62.0     65535.0         65535.0   \n",
       "21206       64.0  65535.0         62.0         6.0            10.0   \n",
       "21216       64.0  65535.0         62.0     65535.0         65535.0   \n",
       "...          ...      ...          ...         ...             ...   \n",
       "135853      64.0  65535.0         62.0         6.0         65535.0   \n",
       "135855      64.0  65535.0         62.0         6.0         65535.0   \n",
       "135901      64.0  65535.0         62.0        15.0            15.0   \n",
       "135931      64.0  65535.0         62.0     65535.0         65535.0   \n",
       "135945      64.0  65535.0         62.0     65535.0         65535.0   \n",
       "\n",
       "        HTTP UA OS MIN  HTTP UA OS BLD Ground Truth OS  \n",
       "11003              6.0             0.0          Mac OS  \n",
       "11289          65535.0         65535.0          Mac OS  \n",
       "11314          65535.0         65535.0          Mac OS  \n",
       "21206             12.0         65535.0          Mac OS  \n",
       "21216          65535.0         65535.0          Mac OS  \n",
       "...                ...             ...             ...  \n",
       "135853         65535.0         65535.0          Mac OS  \n",
       "135855         65535.0         65535.0          Mac OS  \n",
       "135901             6.0             0.0          Mac OS  \n",
       "135931         65535.0         65535.0          Mac OS  \n",
       "135945         65535.0         65535.0          Mac OS  \n",
       "\n",
       "[15701 rows x 8 columns]"
      ]
     },
     "execution_count": 32,
     "metadata": {},
     "output_type": "execute_result"
    }
   ],
   "source": [
    "only_Mac"
   ]
  },
  {
   "cell_type": "code",
   "execution_count": 33,
   "id": "caroline-poetry",
   "metadata": {},
   "outputs": [
    {
     "data": {
      "text/html": [
       "<div>\n",
       "<style scoped>\n",
       "    .dataframe tbody tr th:only-of-type {\n",
       "        vertical-align: middle;\n",
       "    }\n",
       "\n",
       "    .dataframe tbody tr th {\n",
       "        vertical-align: top;\n",
       "    }\n",
       "\n",
       "    .dataframe thead th {\n",
       "        text-align: right;\n",
       "    }\n",
       "</style>\n",
       "<table border=\"1\" class=\"dataframe\">\n",
       "  <thead>\n",
       "    <tr style=\"text-align: right;\">\n",
       "      <th></th>\n",
       "      <th>SYN size</th>\n",
       "      <th>TCP win</th>\n",
       "      <th>TCP SYN TTL</th>\n",
       "      <th>HTTP UA OS</th>\n",
       "      <th>HTTP UA OS MAJ</th>\n",
       "      <th>HTTP UA OS MIN</th>\n",
       "      <th>HTTP UA OS BLD</th>\n",
       "    </tr>\n",
       "  </thead>\n",
       "  <tbody>\n",
       "    <tr>\n",
       "      <th>11003</th>\n",
       "      <td>64.0</td>\n",
       "      <td>65535.0</td>\n",
       "      <td>62.0</td>\n",
       "      <td>15.0</td>\n",
       "      <td>18.0</td>\n",
       "      <td>6.0</td>\n",
       "      <td>0.0</td>\n",
       "    </tr>\n",
       "    <tr>\n",
       "      <th>11289</th>\n",
       "      <td>64.0</td>\n",
       "      <td>65535.0</td>\n",
       "      <td>62.0</td>\n",
       "      <td>65535.0</td>\n",
       "      <td>65535.0</td>\n",
       "      <td>65535.0</td>\n",
       "      <td>65535.0</td>\n",
       "    </tr>\n",
       "    <tr>\n",
       "      <th>11314</th>\n",
       "      <td>64.0</td>\n",
       "      <td>65535.0</td>\n",
       "      <td>62.0</td>\n",
       "      <td>65535.0</td>\n",
       "      <td>65535.0</td>\n",
       "      <td>65535.0</td>\n",
       "      <td>65535.0</td>\n",
       "    </tr>\n",
       "    <tr>\n",
       "      <th>21206</th>\n",
       "      <td>64.0</td>\n",
       "      <td>65535.0</td>\n",
       "      <td>62.0</td>\n",
       "      <td>6.0</td>\n",
       "      <td>10.0</td>\n",
       "      <td>12.0</td>\n",
       "      <td>65535.0</td>\n",
       "    </tr>\n",
       "    <tr>\n",
       "      <th>21216</th>\n",
       "      <td>64.0</td>\n",
       "      <td>65535.0</td>\n",
       "      <td>62.0</td>\n",
       "      <td>65535.0</td>\n",
       "      <td>65535.0</td>\n",
       "      <td>65535.0</td>\n",
       "      <td>65535.0</td>\n",
       "    </tr>\n",
       "    <tr>\n",
       "      <th>...</th>\n",
       "      <td>...</td>\n",
       "      <td>...</td>\n",
       "      <td>...</td>\n",
       "      <td>...</td>\n",
       "      <td>...</td>\n",
       "      <td>...</td>\n",
       "      <td>...</td>\n",
       "    </tr>\n",
       "    <tr>\n",
       "      <th>135853</th>\n",
       "      <td>64.0</td>\n",
       "      <td>65535.0</td>\n",
       "      <td>62.0</td>\n",
       "      <td>6.0</td>\n",
       "      <td>65535.0</td>\n",
       "      <td>65535.0</td>\n",
       "      <td>65535.0</td>\n",
       "    </tr>\n",
       "    <tr>\n",
       "      <th>135855</th>\n",
       "      <td>64.0</td>\n",
       "      <td>65535.0</td>\n",
       "      <td>62.0</td>\n",
       "      <td>6.0</td>\n",
       "      <td>65535.0</td>\n",
       "      <td>65535.0</td>\n",
       "      <td>65535.0</td>\n",
       "    </tr>\n",
       "    <tr>\n",
       "      <th>135901</th>\n",
       "      <td>64.0</td>\n",
       "      <td>65535.0</td>\n",
       "      <td>62.0</td>\n",
       "      <td>15.0</td>\n",
       "      <td>15.0</td>\n",
       "      <td>6.0</td>\n",
       "      <td>0.0</td>\n",
       "    </tr>\n",
       "    <tr>\n",
       "      <th>135931</th>\n",
       "      <td>64.0</td>\n",
       "      <td>65535.0</td>\n",
       "      <td>62.0</td>\n",
       "      <td>65535.0</td>\n",
       "      <td>65535.0</td>\n",
       "      <td>65535.0</td>\n",
       "      <td>65535.0</td>\n",
       "    </tr>\n",
       "    <tr>\n",
       "      <th>135945</th>\n",
       "      <td>64.0</td>\n",
       "      <td>65535.0</td>\n",
       "      <td>62.0</td>\n",
       "      <td>65535.0</td>\n",
       "      <td>65535.0</td>\n",
       "      <td>65535.0</td>\n",
       "      <td>65535.0</td>\n",
       "    </tr>\n",
       "  </tbody>\n",
       "</table>\n",
       "<p>15701 rows × 7 columns</p>\n",
       "</div>"
      ],
      "text/plain": [
       "        SYN size  TCP win  TCP SYN TTL  HTTP UA OS  HTTP UA OS MAJ  \\\n",
       "11003       64.0  65535.0         62.0        15.0            18.0   \n",
       "11289       64.0  65535.0         62.0     65535.0         65535.0   \n",
       "11314       64.0  65535.0         62.0     65535.0         65535.0   \n",
       "21206       64.0  65535.0         62.0         6.0            10.0   \n",
       "21216       64.0  65535.0         62.0     65535.0         65535.0   \n",
       "...          ...      ...          ...         ...             ...   \n",
       "135853      64.0  65535.0         62.0         6.0         65535.0   \n",
       "135855      64.0  65535.0         62.0         6.0         65535.0   \n",
       "135901      64.0  65535.0         62.0        15.0            15.0   \n",
       "135931      64.0  65535.0         62.0     65535.0         65535.0   \n",
       "135945      64.0  65535.0         62.0     65535.0         65535.0   \n",
       "\n",
       "        HTTP UA OS MIN  HTTP UA OS BLD  \n",
       "11003              6.0             0.0  \n",
       "11289          65535.0         65535.0  \n",
       "11314          65535.0         65535.0  \n",
       "21206             12.0         65535.0  \n",
       "21216          65535.0         65535.0  \n",
       "...                ...             ...  \n",
       "135853         65535.0         65535.0  \n",
       "135855         65535.0         65535.0  \n",
       "135901             6.0             0.0  \n",
       "135931         65535.0         65535.0  \n",
       "135945         65535.0         65535.0  \n",
       "\n",
       "[15701 rows x 7 columns]"
      ]
     },
     "execution_count": 33,
     "metadata": {},
     "output_type": "execute_result"
    }
   ],
   "source": [
    "X_Mac=only_Mac.drop(columns=['Ground Truth OS'])\n",
    "X_Mac"
   ]
  },
  {
   "cell_type": "code",
   "execution_count": 34,
   "id": "polyphonic-discharge",
   "metadata": {},
   "outputs": [],
   "source": [
    "answer_Mac=[]\n",
    "for i in range(0,15701):\n",
    "    answer_Mac.append('Mac OS')"
   ]
  },
  {
   "cell_type": "code",
   "execution_count": 152,
   "id": "widespread-bacteria",
   "metadata": {},
   "outputs": [
    {
     "name": "stdout",
     "output_type": "stream",
     "text": [
      "Accuracy for ANN nets is 0.7021208840201261\n"
     ]
    }
   ],
   "source": [
    "prediction=ann_model.predict(X_Mac)#testing ANN model for Mac OS\n",
    "score=accuracy_score(answer_Mac,prediction)\n",
    "print(f'Accuracy for ANN nets is {score}')"
   ]
  },
  {
   "cell_type": "code",
   "execution_count": 153,
   "id": "democratic-candidate",
   "metadata": {},
   "outputs": [
    {
     "data": {
      "text/plain": [
       "0.7021208840201261"
      ]
     },
     "execution_count": 153,
     "metadata": {},
     "output_type": "execute_result"
    }
   ],
   "source": [
    "precision_score(answer_Mac, prediction,average='micro', zero_division='warn')"
   ]
  },
  {
   "cell_type": "code",
   "execution_count": 155,
   "id": "grand-empire",
   "metadata": {},
   "outputs": [
    {
     "data": {
      "text/plain": [
       "0.7021208840201261"
      ]
     },
     "execution_count": 155,
     "metadata": {},
     "output_type": "execute_result"
    }
   ],
   "source": [
    "recall_score(answer_Mac,prediction,average='micro', zero_division='warn')"
   ]
  },
  {
   "cell_type": "code",
   "execution_count": 52,
   "id": "secondary-contrast",
   "metadata": {},
   "outputs": [
    {
     "name": "stdout",
     "output_type": "stream",
     "text": [
      "0.5984969110247755\n",
      "0.7488246075384493\n"
     ]
    }
   ],
   "source": [
    "print(f1_score(answer_Mac, prediction,average='micro'))\n",
    "print(f1_score(answer_Mac, prediction,average='weighted'))"
   ]
  },
  {
   "cell_type": "code",
   "execution_count": 175,
   "id": "respiratory-fault",
   "metadata": {},
   "outputs": [
    {
     "name": "stdout",
     "output_type": "stream",
     "text": [
      "Accuracy for KNN nets is 0.7171517737723712\n"
     ]
    }
   ],
   "source": [
    "prediction=knn_model.predict(X_Mac)#testing KNN model for Mac OS\n",
    "score=accuracy_score(answer_Mac,prediction)\n",
    "print(f'Accuracy for KNN nets is {score}')"
   ]
  },
  {
   "cell_type": "code",
   "execution_count": 176,
   "id": "further-latvia",
   "metadata": {},
   "outputs": [
    {
     "data": {
      "text/plain": [
       "0.7171517737723712"
      ]
     },
     "execution_count": 176,
     "metadata": {},
     "output_type": "execute_result"
    }
   ],
   "source": [
    "precision_score(answer_Mac, prediction,average='micro', zero_division='warn')"
   ]
  },
  {
   "cell_type": "code",
   "execution_count": 177,
   "id": "antique-origin",
   "metadata": {},
   "outputs": [
    {
     "data": {
      "text/plain": [
       "0.7171517737723712"
      ]
     },
     "execution_count": 177,
     "metadata": {},
     "output_type": "execute_result"
    }
   ],
   "source": [
    "recall_score(answer_Mac,prediction,average='micro', zero_division='warn')"
   ]
  },
  {
   "cell_type": "code",
   "execution_count": 178,
   "id": "further-honduras",
   "metadata": {},
   "outputs": [
    {
     "name": "stdout",
     "output_type": "stream",
     "text": [
      "0.7171517737723712\n",
      "0.8352805904825489\n"
     ]
    }
   ],
   "source": [
    "print(f1_score(answer_Mac, prediction,average='micro'))\n",
    "print(f1_score(answer_Mac, prediction,average='weighted'))"
   ]
  },
  {
   "cell_type": "code",
   "execution_count": 198,
   "id": "sustainable-retail",
   "metadata": {},
   "outputs": [
    {
     "name": "stdout",
     "output_type": "stream",
     "text": [
      "Accuracy for Decision Tree nets is 0.718298197567034\n"
     ]
    }
   ],
   "source": [
    "prediction=DecisionTree_model.predict(X_Mac)#testing Decision Tree model for Mac OS\n",
    "score=accuracy_score(answer_Mac,prediction)\n",
    "print(f'Accuracy for Decision Tree nets is {score}')"
   ]
  },
  {
   "cell_type": "code",
   "execution_count": 199,
   "id": "coordinate-appendix",
   "metadata": {},
   "outputs": [
    {
     "data": {
      "text/plain": [
       "0.718298197567034"
      ]
     },
     "execution_count": 199,
     "metadata": {},
     "output_type": "execute_result"
    }
   ],
   "source": [
    "precision_score(answer_Mac, prediction,average='micro', zero_division='warn')"
   ]
  },
  {
   "cell_type": "code",
   "execution_count": 200,
   "id": "protected-surprise",
   "metadata": {},
   "outputs": [
    {
     "data": {
      "text/plain": [
       "0.718298197567034"
      ]
     },
     "execution_count": 200,
     "metadata": {},
     "output_type": "execute_result"
    }
   ],
   "source": [
    "recall_score(answer_Mac,prediction,average='micro', zero_division='warn')"
   ]
  },
  {
   "cell_type": "code",
   "execution_count": 201,
   "id": "animated-astronomy",
   "metadata": {},
   "outputs": [
    {
     "name": "stdout",
     "output_type": "stream",
     "text": [
      "0.718298197567034\n",
      "0.8360576744875644\n"
     ]
    }
   ],
   "source": [
    "print(f1_score(answer_Mac, prediction,average='micro'))\n",
    "print(f1_score(answer_Mac, prediction,average='weighted'))"
   ]
  },
  {
   "cell_type": "code",
   "execution_count": 220,
   "id": "referenced-cabin",
   "metadata": {},
   "outputs": [
    {
     "name": "stdout",
     "output_type": "stream",
     "text": [
      "Accuracy for Random Forest nets is 0.718298197567034\n"
     ]
    }
   ],
   "source": [
    "prediction=ranfor_model.predict(X_Mac)#testing Random Forest model for Mac OS\n",
    "score=accuracy_score(answer_Mac,prediction)\n",
    "print(f'Accuracy for Random Forest nets is {score}')"
   ]
  },
  {
   "cell_type": "code",
   "execution_count": 221,
   "id": "immediate-western",
   "metadata": {},
   "outputs": [
    {
     "data": {
      "text/plain": [
       "0.718298197567034"
      ]
     },
     "execution_count": 221,
     "metadata": {},
     "output_type": "execute_result"
    }
   ],
   "source": [
    "precision_score(answer_Mac, prediction,average='micro', zero_division='warn')"
   ]
  },
  {
   "cell_type": "code",
   "execution_count": 222,
   "id": "automotive-thanks",
   "metadata": {},
   "outputs": [
    {
     "data": {
      "text/plain": [
       "0.718298197567034"
      ]
     },
     "execution_count": 222,
     "metadata": {},
     "output_type": "execute_result"
    }
   ],
   "source": [
    "recall_score(answer_Mac,prediction,average='micro', zero_division='warn')"
   ]
  },
  {
   "cell_type": "code",
   "execution_count": 223,
   "id": "legislative-novelty",
   "metadata": {},
   "outputs": [
    {
     "name": "stdout",
     "output_type": "stream",
     "text": [
      "0.718298197567034\n",
      "0.8360576744875644\n"
     ]
    }
   ],
   "source": [
    "print(f1_score(answer_Mac, prediction,average='micro'))\n",
    "print(f1_score(answer_Mac, prediction,average='weighted'))"
   ]
  },
  {
   "cell_type": "code",
   "execution_count": 35,
   "id": "bearing-winter",
   "metadata": {},
   "outputs": [
    {
     "name": "stdout",
     "output_type": "stream",
     "text": [
      "Accuracy for Naive Bayes model is 0.0\n"
     ]
    }
   ],
   "source": [
    "prediction=bayes_model.predict(X_Mac)#testing Naive Bayes model for Windows\n",
    "score=accuracy_score(answer_Mac,prediction)\n",
    "print(f'Accuracy for Naive Bayes model is {score}')"
   ]
  },
  {
   "cell_type": "code",
   "execution_count": 36,
   "id": "collected-buddy",
   "metadata": {},
   "outputs": [
    {
     "data": {
      "text/plain": [
       "0.0"
      ]
     },
     "execution_count": 36,
     "metadata": {},
     "output_type": "execute_result"
    }
   ],
   "source": [
    "precision_score(answer_Mac, prediction,average='micro', zero_division='warn')"
   ]
  },
  {
   "cell_type": "code",
   "execution_count": 37,
   "id": "fabulous-winter",
   "metadata": {},
   "outputs": [
    {
     "data": {
      "text/plain": [
       "0.0"
      ]
     },
     "execution_count": 37,
     "metadata": {},
     "output_type": "execute_result"
    }
   ],
   "source": [
    "recall_score(answer_Mac,prediction,average='micro', zero_division='warn')"
   ]
  },
  {
   "cell_type": "code",
   "execution_count": 38,
   "id": "fitted-spiritual",
   "metadata": {},
   "outputs": [
    {
     "name": "stdout",
     "output_type": "stream",
     "text": [
      "0.0\n",
      "0.0\n"
     ]
    }
   ],
   "source": [
    "print(f1_score(answer_Mac, prediction,average='micro'))\n",
    "print(f1_score(answer_Mac, prediction,average='weighted'))"
   ]
  },
  {
   "cell_type": "code",
   "execution_count": 59,
   "id": "critical-chart",
   "metadata": {},
   "outputs": [
    {
     "data": {
      "text/html": [
       "<div>\n",
       "<style scoped>\n",
       "    .dataframe tbody tr th:only-of-type {\n",
       "        vertical-align: middle;\n",
       "    }\n",
       "\n",
       "    .dataframe tbody tr th {\n",
       "        vertical-align: top;\n",
       "    }\n",
       "\n",
       "    .dataframe thead th {\n",
       "        text-align: right;\n",
       "    }\n",
       "</style>\n",
       "<table border=\"1\" class=\"dataframe\">\n",
       "  <thead>\n",
       "    <tr style=\"text-align: right;\">\n",
       "      <th></th>\n",
       "      <th>SYN size</th>\n",
       "      <th>TCP win</th>\n",
       "      <th>TCP SYN TTL</th>\n",
       "      <th>HTTP UA OS</th>\n",
       "      <th>HTTP UA OS MAJ</th>\n",
       "      <th>HTTP UA OS MIN</th>\n",
       "      <th>HTTP UA OS BLD</th>\n",
       "      <th>Ground Truth OS</th>\n",
       "    </tr>\n",
       "  </thead>\n",
       "  <tbody>\n",
       "    <tr>\n",
       "      <th>10773</th>\n",
       "      <td>60.0</td>\n",
       "      <td>65535.0</td>\n",
       "      <td>62.0</td>\n",
       "      <td>3.0</td>\n",
       "      <td>2.0</td>\n",
       "      <td>2.0</td>\n",
       "      <td>65535.0</td>\n",
       "      <td>Android</td>\n",
       "    </tr>\n",
       "    <tr>\n",
       "      <th>10774</th>\n",
       "      <td>60.0</td>\n",
       "      <td>65535.0</td>\n",
       "      <td>62.0</td>\n",
       "      <td>65535.0</td>\n",
       "      <td>65535.0</td>\n",
       "      <td>65535.0</td>\n",
       "      <td>65535.0</td>\n",
       "      <td>Android</td>\n",
       "    </tr>\n",
       "    <tr>\n",
       "      <th>10778</th>\n",
       "      <td>60.0</td>\n",
       "      <td>65535.0</td>\n",
       "      <td>62.0</td>\n",
       "      <td>3.0</td>\n",
       "      <td>8.0</td>\n",
       "      <td>0.0</td>\n",
       "      <td>0.0</td>\n",
       "      <td>Android</td>\n",
       "    </tr>\n",
       "    <tr>\n",
       "      <th>10782</th>\n",
       "      <td>60.0</td>\n",
       "      <td>65535.0</td>\n",
       "      <td>62.0</td>\n",
       "      <td>65535.0</td>\n",
       "      <td>65535.0</td>\n",
       "      <td>65535.0</td>\n",
       "      <td>65535.0</td>\n",
       "      <td>Android</td>\n",
       "    </tr>\n",
       "    <tr>\n",
       "      <th>10783</th>\n",
       "      <td>60.0</td>\n",
       "      <td>14600.0</td>\n",
       "      <td>62.0</td>\n",
       "      <td>3.0</td>\n",
       "      <td>4.0</td>\n",
       "      <td>1.0</td>\n",
       "      <td>2.0</td>\n",
       "      <td>Android</td>\n",
       "    </tr>\n",
       "    <tr>\n",
       "      <th>...</th>\n",
       "      <td>...</td>\n",
       "      <td>...</td>\n",
       "      <td>...</td>\n",
       "      <td>...</td>\n",
       "      <td>...</td>\n",
       "      <td>...</td>\n",
       "      <td>...</td>\n",
       "      <td>...</td>\n",
       "    </tr>\n",
       "    <tr>\n",
       "      <th>135963</th>\n",
       "      <td>60.0</td>\n",
       "      <td>65535.0</td>\n",
       "      <td>62.0</td>\n",
       "      <td>25.0</td>\n",
       "      <td>65535.0</td>\n",
       "      <td>65535.0</td>\n",
       "      <td>65535.0</td>\n",
       "      <td>Android</td>\n",
       "    </tr>\n",
       "    <tr>\n",
       "      <th>135967</th>\n",
       "      <td>60.0</td>\n",
       "      <td>65535.0</td>\n",
       "      <td>62.0</td>\n",
       "      <td>3.0</td>\n",
       "      <td>5.0</td>\n",
       "      <td>1.0</td>\n",
       "      <td>1.0</td>\n",
       "      <td>Android</td>\n",
       "    </tr>\n",
       "    <tr>\n",
       "      <th>135971</th>\n",
       "      <td>60.0</td>\n",
       "      <td>65535.0</td>\n",
       "      <td>62.0</td>\n",
       "      <td>65535.0</td>\n",
       "      <td>65535.0</td>\n",
       "      <td>65535.0</td>\n",
       "      <td>65535.0</td>\n",
       "      <td>Android</td>\n",
       "    </tr>\n",
       "    <tr>\n",
       "      <th>135973</th>\n",
       "      <td>60.0</td>\n",
       "      <td>29200.0</td>\n",
       "      <td>62.0</td>\n",
       "      <td>3.0</td>\n",
       "      <td>4.0</td>\n",
       "      <td>4.0</td>\n",
       "      <td>2.0</td>\n",
       "      <td>Android</td>\n",
       "    </tr>\n",
       "    <tr>\n",
       "      <th>135974</th>\n",
       "      <td>60.0</td>\n",
       "      <td>65535.0</td>\n",
       "      <td>62.0</td>\n",
       "      <td>3.0</td>\n",
       "      <td>6.0</td>\n",
       "      <td>0.0</td>\n",
       "      <td>1.0</td>\n",
       "      <td>Android</td>\n",
       "    </tr>\n",
       "  </tbody>\n",
       "</table>\n",
       "<p>83175 rows × 8 columns</p>\n",
       "</div>"
      ],
      "text/plain": [
       "        SYN size  TCP win  TCP SYN TTL  HTTP UA OS  HTTP UA OS MAJ  \\\n",
       "10773       60.0  65535.0         62.0         3.0             2.0   \n",
       "10774       60.0  65535.0         62.0     65535.0         65535.0   \n",
       "10778       60.0  65535.0         62.0         3.0             8.0   \n",
       "10782       60.0  65535.0         62.0     65535.0         65535.0   \n",
       "10783       60.0  14600.0         62.0         3.0             4.0   \n",
       "...          ...      ...          ...         ...             ...   \n",
       "135963      60.0  65535.0         62.0        25.0         65535.0   \n",
       "135967      60.0  65535.0         62.0         3.0             5.0   \n",
       "135971      60.0  65535.0         62.0     65535.0         65535.0   \n",
       "135973      60.0  29200.0         62.0         3.0             4.0   \n",
       "135974      60.0  65535.0         62.0         3.0             6.0   \n",
       "\n",
       "        HTTP UA OS MIN  HTTP UA OS BLD Ground Truth OS  \n",
       "10773              2.0         65535.0         Android  \n",
       "10774          65535.0         65535.0         Android  \n",
       "10778              0.0             0.0         Android  \n",
       "10782          65535.0         65535.0         Android  \n",
       "10783              1.0             2.0         Android  \n",
       "...                ...             ...             ...  \n",
       "135963         65535.0         65535.0         Android  \n",
       "135967             1.0             1.0         Android  \n",
       "135971         65535.0         65535.0         Android  \n",
       "135973             4.0             2.0         Android  \n",
       "135974             0.0             1.0         Android  \n",
       "\n",
       "[83175 rows x 8 columns]"
      ]
     },
     "execution_count": 59,
     "metadata": {},
     "output_type": "execute_result"
    }
   ],
   "source": [
    "only_Android"
   ]
  },
  {
   "cell_type": "code",
   "execution_count": 39,
   "id": "liquid-wales",
   "metadata": {},
   "outputs": [
    {
     "data": {
      "text/html": [
       "<div>\n",
       "<style scoped>\n",
       "    .dataframe tbody tr th:only-of-type {\n",
       "        vertical-align: middle;\n",
       "    }\n",
       "\n",
       "    .dataframe tbody tr th {\n",
       "        vertical-align: top;\n",
       "    }\n",
       "\n",
       "    .dataframe thead th {\n",
       "        text-align: right;\n",
       "    }\n",
       "</style>\n",
       "<table border=\"1\" class=\"dataframe\">\n",
       "  <thead>\n",
       "    <tr style=\"text-align: right;\">\n",
       "      <th></th>\n",
       "      <th>SYN size</th>\n",
       "      <th>TCP win</th>\n",
       "      <th>TCP SYN TTL</th>\n",
       "      <th>HTTP UA OS</th>\n",
       "      <th>HTTP UA OS MAJ</th>\n",
       "      <th>HTTP UA OS MIN</th>\n",
       "      <th>HTTP UA OS BLD</th>\n",
       "    </tr>\n",
       "  </thead>\n",
       "  <tbody>\n",
       "    <tr>\n",
       "      <th>10773</th>\n",
       "      <td>60.0</td>\n",
       "      <td>65535.0</td>\n",
       "      <td>62.0</td>\n",
       "      <td>3.0</td>\n",
       "      <td>2.0</td>\n",
       "      <td>2.0</td>\n",
       "      <td>65535.0</td>\n",
       "    </tr>\n",
       "    <tr>\n",
       "      <th>10774</th>\n",
       "      <td>60.0</td>\n",
       "      <td>65535.0</td>\n",
       "      <td>62.0</td>\n",
       "      <td>65535.0</td>\n",
       "      <td>65535.0</td>\n",
       "      <td>65535.0</td>\n",
       "      <td>65535.0</td>\n",
       "    </tr>\n",
       "    <tr>\n",
       "      <th>10778</th>\n",
       "      <td>60.0</td>\n",
       "      <td>65535.0</td>\n",
       "      <td>62.0</td>\n",
       "      <td>3.0</td>\n",
       "      <td>8.0</td>\n",
       "      <td>0.0</td>\n",
       "      <td>0.0</td>\n",
       "    </tr>\n",
       "    <tr>\n",
       "      <th>10782</th>\n",
       "      <td>60.0</td>\n",
       "      <td>65535.0</td>\n",
       "      <td>62.0</td>\n",
       "      <td>65535.0</td>\n",
       "      <td>65535.0</td>\n",
       "      <td>65535.0</td>\n",
       "      <td>65535.0</td>\n",
       "    </tr>\n",
       "    <tr>\n",
       "      <th>10783</th>\n",
       "      <td>60.0</td>\n",
       "      <td>14600.0</td>\n",
       "      <td>62.0</td>\n",
       "      <td>3.0</td>\n",
       "      <td>4.0</td>\n",
       "      <td>1.0</td>\n",
       "      <td>2.0</td>\n",
       "    </tr>\n",
       "    <tr>\n",
       "      <th>...</th>\n",
       "      <td>...</td>\n",
       "      <td>...</td>\n",
       "      <td>...</td>\n",
       "      <td>...</td>\n",
       "      <td>...</td>\n",
       "      <td>...</td>\n",
       "      <td>...</td>\n",
       "    </tr>\n",
       "    <tr>\n",
       "      <th>135963</th>\n",
       "      <td>60.0</td>\n",
       "      <td>65535.0</td>\n",
       "      <td>62.0</td>\n",
       "      <td>25.0</td>\n",
       "      <td>65535.0</td>\n",
       "      <td>65535.0</td>\n",
       "      <td>65535.0</td>\n",
       "    </tr>\n",
       "    <tr>\n",
       "      <th>135967</th>\n",
       "      <td>60.0</td>\n",
       "      <td>65535.0</td>\n",
       "      <td>62.0</td>\n",
       "      <td>3.0</td>\n",
       "      <td>5.0</td>\n",
       "      <td>1.0</td>\n",
       "      <td>1.0</td>\n",
       "    </tr>\n",
       "    <tr>\n",
       "      <th>135971</th>\n",
       "      <td>60.0</td>\n",
       "      <td>65535.0</td>\n",
       "      <td>62.0</td>\n",
       "      <td>65535.0</td>\n",
       "      <td>65535.0</td>\n",
       "      <td>65535.0</td>\n",
       "      <td>65535.0</td>\n",
       "    </tr>\n",
       "    <tr>\n",
       "      <th>135973</th>\n",
       "      <td>60.0</td>\n",
       "      <td>29200.0</td>\n",
       "      <td>62.0</td>\n",
       "      <td>3.0</td>\n",
       "      <td>4.0</td>\n",
       "      <td>4.0</td>\n",
       "      <td>2.0</td>\n",
       "    </tr>\n",
       "    <tr>\n",
       "      <th>135974</th>\n",
       "      <td>60.0</td>\n",
       "      <td>65535.0</td>\n",
       "      <td>62.0</td>\n",
       "      <td>3.0</td>\n",
       "      <td>6.0</td>\n",
       "      <td>0.0</td>\n",
       "      <td>1.0</td>\n",
       "    </tr>\n",
       "  </tbody>\n",
       "</table>\n",
       "<p>83175 rows × 7 columns</p>\n",
       "</div>"
      ],
      "text/plain": [
       "        SYN size  TCP win  TCP SYN TTL  HTTP UA OS  HTTP UA OS MAJ  \\\n",
       "10773       60.0  65535.0         62.0         3.0             2.0   \n",
       "10774       60.0  65535.0         62.0     65535.0         65535.0   \n",
       "10778       60.0  65535.0         62.0         3.0             8.0   \n",
       "10782       60.0  65535.0         62.0     65535.0         65535.0   \n",
       "10783       60.0  14600.0         62.0         3.0             4.0   \n",
       "...          ...      ...          ...         ...             ...   \n",
       "135963      60.0  65535.0         62.0        25.0         65535.0   \n",
       "135967      60.0  65535.0         62.0         3.0             5.0   \n",
       "135971      60.0  65535.0         62.0     65535.0         65535.0   \n",
       "135973      60.0  29200.0         62.0         3.0             4.0   \n",
       "135974      60.0  65535.0         62.0         3.0             6.0   \n",
       "\n",
       "        HTTP UA OS MIN  HTTP UA OS BLD  \n",
       "10773              2.0         65535.0  \n",
       "10774          65535.0         65535.0  \n",
       "10778              0.0             0.0  \n",
       "10782          65535.0         65535.0  \n",
       "10783              1.0             2.0  \n",
       "...                ...             ...  \n",
       "135963         65535.0         65535.0  \n",
       "135967             1.0             1.0  \n",
       "135971         65535.0         65535.0  \n",
       "135973             4.0             2.0  \n",
       "135974             0.0             1.0  \n",
       "\n",
       "[83175 rows x 7 columns]"
      ]
     },
     "execution_count": 39,
     "metadata": {},
     "output_type": "execute_result"
    }
   ],
   "source": [
    "X_and=only_Android.drop(columns=['Ground Truth OS'])\n",
    "X_and"
   ]
  },
  {
   "cell_type": "code",
   "execution_count": 40,
   "id": "banned-scottish",
   "metadata": {},
   "outputs": [],
   "source": [
    "answer_and=[]\n",
    "for i in range(0,83175):\n",
    "    answer_and.append('Android')"
   ]
  },
  {
   "cell_type": "code",
   "execution_count": 156,
   "id": "complex-silence",
   "metadata": {},
   "outputs": [
    {
     "name": "stdout",
     "output_type": "stream",
     "text": [
      "Accuracy for ANN nets is 0.679146378118425\n"
     ]
    }
   ],
   "source": [
    "prediction=ann_model.predict(X_and)#testing ANN model for Android\n",
    "score=accuracy_score(answer_and,prediction)\n",
    "print(f'Accuracy for ANN nets is {score}')"
   ]
  },
  {
   "cell_type": "code",
   "execution_count": 157,
   "id": "continuous-builder",
   "metadata": {},
   "outputs": [
    {
     "data": {
      "text/plain": [
       "0.679146378118425"
      ]
     },
     "execution_count": 157,
     "metadata": {},
     "output_type": "execute_result"
    }
   ],
   "source": [
    "precision_score(answer_and, prediction,average='micro', zero_division='warn')"
   ]
  },
  {
   "cell_type": "code",
   "execution_count": 158,
   "id": "computational-marble",
   "metadata": {},
   "outputs": [
    {
     "data": {
      "text/plain": [
       "0.679146378118425"
      ]
     },
     "execution_count": 158,
     "metadata": {},
     "output_type": "execute_result"
    }
   ],
   "source": [
    "recall_score(answer_and,prediction,average='micro', zero_division='warn')"
   ]
  },
  {
   "cell_type": "code",
   "execution_count": 159,
   "id": "suburban-while",
   "metadata": {},
   "outputs": [
    {
     "name": "stdout",
     "output_type": "stream",
     "text": [
      "0.679146378118425\n",
      "0.8089186112284572\n"
     ]
    }
   ],
   "source": [
    "print(f1_score(answer_and, prediction,average='micro'))\n",
    "print(f1_score(answer_and, prediction,average='weighted'))"
   ]
  },
  {
   "cell_type": "code",
   "execution_count": 179,
   "id": "weighted-devon",
   "metadata": {},
   "outputs": [
    {
     "name": "stdout",
     "output_type": "stream",
     "text": [
      "Accuracy for KNN nets is 0.9994709948902916\n"
     ]
    }
   ],
   "source": [
    "prediction=knn_model.predict(X_and)#testing KNN model for Android\n",
    "score=accuracy_score(answer_and,prediction)\n",
    "print(f'Accuracy for KNN nets is {score}')"
   ]
  },
  {
   "cell_type": "code",
   "execution_count": 180,
   "id": "distinguished-quest",
   "metadata": {},
   "outputs": [
    {
     "data": {
      "text/plain": [
       "0.9994709948902916"
      ]
     },
     "execution_count": 180,
     "metadata": {},
     "output_type": "execute_result"
    }
   ],
   "source": [
    "precision_score(answer_and, prediction,average='micro', zero_division='warn')"
   ]
  },
  {
   "cell_type": "code",
   "execution_count": 181,
   "id": "chemical-fantasy",
   "metadata": {},
   "outputs": [
    {
     "data": {
      "text/plain": [
       "0.9994709948902916"
      ]
     },
     "execution_count": 181,
     "metadata": {},
     "output_type": "execute_result"
    }
   ],
   "source": [
    "recall_score(answer_and,prediction,average='micro', zero_division='warn')"
   ]
  },
  {
   "cell_type": "code",
   "execution_count": 65,
   "id": "premier-range",
   "metadata": {},
   "outputs": [
    {
     "name": "stdout",
     "output_type": "stream",
     "text": [
      "0.9994709948902916\n",
      "0.9997354274650343\n"
     ]
    }
   ],
   "source": [
    "print(f1_score(answer_and, prediction,average='micro'))\n",
    "print(f1_score(answer_and, prediction,average='weighted'))"
   ]
  },
  {
   "cell_type": "code",
   "execution_count": 202,
   "id": "macro-checklist",
   "metadata": {},
   "outputs": [
    {
     "name": "stdout",
     "output_type": "stream",
     "text": [
      "Accuracy for Decision Tree nets is 0.9995431319507063\n"
     ]
    }
   ],
   "source": [
    "prediction=DecisionTree_model.predict(X_and)#testing Decision Tree model for Android\n",
    "score=accuracy_score(answer_and,prediction)\n",
    "print(f'Accuracy for Decision Tree nets is {score}')"
   ]
  },
  {
   "cell_type": "code",
   "execution_count": 203,
   "id": "handy-reality",
   "metadata": {},
   "outputs": [
    {
     "data": {
      "text/plain": [
       "0.9995431319507063"
      ]
     },
     "execution_count": 203,
     "metadata": {},
     "output_type": "execute_result"
    }
   ],
   "source": [
    "precision_score(answer_and, prediction,average='micro', zero_division='warn')"
   ]
  },
  {
   "cell_type": "code",
   "execution_count": 204,
   "id": "assumed-scout",
   "metadata": {},
   "outputs": [
    {
     "data": {
      "text/plain": [
       "0.9995431319507063"
      ]
     },
     "execution_count": 204,
     "metadata": {},
     "output_type": "execute_result"
    }
   ],
   "source": [
    "recall_score(answer_and,prediction,average='micro', zero_division='warn')"
   ]
  },
  {
   "cell_type": "code",
   "execution_count": 205,
   "id": "directed-indication",
   "metadata": {},
   "outputs": [
    {
     "name": "stdout",
     "output_type": "stream",
     "text": [
      "0.9995431319507063\n",
      "0.9997715137813266\n"
     ]
    }
   ],
   "source": [
    "print(f1_score(answer_and, prediction,average='micro'))\n",
    "print(f1_score(answer_and, prediction,average='weighted'))"
   ]
  },
  {
   "cell_type": "code",
   "execution_count": 224,
   "id": "median-fifty",
   "metadata": {},
   "outputs": [
    {
     "name": "stdout",
     "output_type": "stream",
     "text": [
      "Accuracy for Random Forest nets is 0.9995431319507063\n"
     ]
    }
   ],
   "source": [
    "prediction=ranfor_model.predict(X_and)#testing Random Forest model for Android\n",
    "score=accuracy_score(answer_and,prediction)\n",
    "print(f'Accuracy for Random Forest nets is {score}')"
   ]
  },
  {
   "cell_type": "code",
   "execution_count": 225,
   "id": "technological-computer",
   "metadata": {},
   "outputs": [
    {
     "data": {
      "text/plain": [
       "0.9995431319507063"
      ]
     },
     "execution_count": 225,
     "metadata": {},
     "output_type": "execute_result"
    }
   ],
   "source": [
    "precision_score(answer_and, prediction,average='micro', zero_division='warn')"
   ]
  },
  {
   "cell_type": "code",
   "execution_count": 226,
   "id": "buried-concrete",
   "metadata": {},
   "outputs": [
    {
     "data": {
      "text/plain": [
       "0.9995431319507063"
      ]
     },
     "execution_count": 226,
     "metadata": {},
     "output_type": "execute_result"
    }
   ],
   "source": [
    "recall_score(answer_and,prediction,average='micro', zero_division='warn')"
   ]
  },
  {
   "cell_type": "code",
   "execution_count": 227,
   "id": "vocational-italy",
   "metadata": {},
   "outputs": [
    {
     "name": "stdout",
     "output_type": "stream",
     "text": [
      "0.9995431319507063\n",
      "0.9997715137813266\n"
     ]
    }
   ],
   "source": [
    "print(f1_score(answer_and, prediction,average='micro'))\n",
    "print(f1_score(answer_and, prediction,average='weighted'))"
   ]
  },
  {
   "cell_type": "code",
   "execution_count": 44,
   "id": "abstract-cream",
   "metadata": {},
   "outputs": [
    {
     "name": "stdout",
     "output_type": "stream",
     "text": [
      "Accuracy for Naive Bayes model is 0.772599939885783\n"
     ]
    }
   ],
   "source": [
    "prediction=bayes_model.predict(X_and)#testing Naive Bayes model for Windows\n",
    "score=accuracy_score(answer_and,prediction)\n",
    "print(f'Accuracy for Naive Bayes model is {score}')"
   ]
  },
  {
   "cell_type": "code",
   "execution_count": 45,
   "id": "split-portrait",
   "metadata": {},
   "outputs": [
    {
     "data": {
      "text/plain": [
       "0.772599939885783"
      ]
     },
     "execution_count": 45,
     "metadata": {},
     "output_type": "execute_result"
    }
   ],
   "source": [
    "precision_score(answer_and, prediction,average='micro', zero_division='warn')"
   ]
  },
  {
   "cell_type": "code",
   "execution_count": 46,
   "id": "pleased-server",
   "metadata": {},
   "outputs": [
    {
     "data": {
      "text/plain": [
       "0.772599939885783"
      ]
     },
     "execution_count": 46,
     "metadata": {},
     "output_type": "execute_result"
    }
   ],
   "source": [
    "recall_score(answer_and,prediction,average='micro', zero_division='warn')"
   ]
  },
  {
   "cell_type": "code",
   "execution_count": 47,
   "id": "wrapped-yahoo",
   "metadata": {},
   "outputs": [
    {
     "name": "stdout",
     "output_type": "stream",
     "text": [
      "0.772599939885783\n",
      "0.8717138283729888\n"
     ]
    }
   ],
   "source": [
    "print(f1_score(answer_and, prediction,average='micro'))\n",
    "print(f1_score(answer_and, prediction,average='weighted'))"
   ]
  },
  {
   "cell_type": "markdown",
   "id": "square-uzbekistan",
   "metadata": {},
   "source": [
    "# To check the most important parameter"
   ]
  },
  {
   "cell_type": "code",
   "execution_count": 49,
   "id": "blessed-button",
   "metadata": {},
   "outputs": [],
   "source": [
    "from sklearn.decomposition import FactorAnalysis\n",
    "from sklearn import datasets"
   ]
  },
  {
   "cell_type": "code",
   "execution_count": 71,
   "id": "sought-quebec",
   "metadata": {},
   "outputs": [],
   "source": [
    "X_1=X.drop(columns=['SYN size'])#removing parameter SYN size"
   ]
  },
  {
   "cell_type": "code",
   "execution_count": 72,
   "id": "scenic-recovery",
   "metadata": {},
   "outputs": [],
   "source": [
    "X_train,X_test,Y_train,Y_test=train_test_split(X_1,Y,test_size=0.2)"
   ]
  },
  {
   "cell_type": "code",
   "execution_count": 254,
   "id": "infrared-optimum",
   "metadata": {},
   "outputs": [
    {
     "name": "stdout",
     "output_type": "stream",
     "text": [
      "Accuracy for ANN nets is 0.6623175715119674\n"
     ]
    }
   ],
   "source": [
    "ann_model=MLPClassifier()#a general net\n",
    "\n",
    "ann_model.fit(X_train,Y_train)\n",
    "prediction=ann_model.predict(X_test)\n",
    "score=accuracy_score(Y_test,prediction)\n",
    "print(f'Accuracy for ANN nets is {score}') #accuracy of the model"
   ]
  },
  {
   "cell_type": "code",
   "execution_count": 255,
   "id": "frequent-louis",
   "metadata": {},
   "outputs": [
    {
     "data": {
      "text/plain": [
       "0.6623175715119674"
      ]
     },
     "execution_count": 255,
     "metadata": {},
     "output_type": "execute_result"
    }
   ],
   "source": [
    "precision_score(Y_test, prediction,average='micro', zero_division='warn')"
   ]
  },
  {
   "cell_type": "code",
   "execution_count": 256,
   "id": "portable-porcelain",
   "metadata": {},
   "outputs": [
    {
     "data": {
      "text/plain": [
       "0.6623175715119674"
      ]
     },
     "execution_count": 256,
     "metadata": {},
     "output_type": "execute_result"
    }
   ],
   "source": [
    "recall_score(Y_test,prediction,average='micro', zero_division='warn')"
   ]
  },
  {
   "cell_type": "code",
   "execution_count": 257,
   "id": "satisfactory-ethiopia",
   "metadata": {},
   "outputs": [
    {
     "name": "stdout",
     "output_type": "stream",
     "text": [
      "0.6623175715119674\n",
      "0.6608297918229611\n"
     ]
    }
   ],
   "source": [
    "print(f1_score(Y_test, prediction,average='micro'))\n",
    "print(f1_score(Y_test, prediction,average='weighted'))"
   ]
  },
  {
   "cell_type": "code",
   "execution_count": 50,
   "id": "cordless-adobe",
   "metadata": {},
   "outputs": [],
   "source": [
    "X_2=X.drop(columns=['TCP SYN TTL'])#removing parameter TCP SYN TTL"
   ]
  },
  {
   "cell_type": "code",
   "execution_count": 271,
   "id": "subjective-error",
   "metadata": {},
   "outputs": [],
   "source": [
    "X_train,X_test,Y_train,Y_test=train_test_split(X_2,Y,test_size=0.2)"
   ]
  },
  {
   "cell_type": "code",
   "execution_count": 288,
   "id": "technological-sequence",
   "metadata": {},
   "outputs": [
    {
     "name": "stdout",
     "output_type": "stream",
     "text": [
      "Accuracy for ANN nets is 0.49600116754232343\n"
     ]
    }
   ],
   "source": [
    "ann_model=MLPClassifier()#a general net\n",
    "\n",
    "ann_model.fit(X_train,Y_train)\n",
    "prediction=ann_model.predict(X_test)\n",
    "score=accuracy_score(Y_test,prediction)\n",
    "print(f'Accuracy for ANN nets is {score}') #accuracy of the model"
   ]
  },
  {
   "cell_type": "code",
   "execution_count": 289,
   "id": "human-eagle",
   "metadata": {},
   "outputs": [
    {
     "data": {
      "text/plain": [
       "0.49600116754232343"
      ]
     },
     "execution_count": 289,
     "metadata": {},
     "output_type": "execute_result"
    }
   ],
   "source": [
    "precision_score(Y_test, prediction,average='micro', zero_division='warn')"
   ]
  },
  {
   "cell_type": "code",
   "execution_count": 290,
   "id": "precise-flooring",
   "metadata": {},
   "outputs": [
    {
     "data": {
      "text/plain": [
       "0.49600116754232343"
      ]
     },
     "execution_count": 290,
     "metadata": {},
     "output_type": "execute_result"
    }
   ],
   "source": [
    "recall_score(Y_test,prediction,average='micro', zero_division='warn')"
   ]
  },
  {
   "cell_type": "code",
   "execution_count": 291,
   "id": "macro-accused",
   "metadata": {},
   "outputs": [
    {
     "name": "stdout",
     "output_type": "stream",
     "text": [
      "0.49600116754232343\n",
      "0.3396419109963589\n"
     ]
    }
   ],
   "source": [
    "print(f1_score(Y_test, prediction,average='micro'))\n",
    "print(f1_score(Y_test, prediction,average='weighted'))"
   ]
  },
  {
   "cell_type": "code",
   "execution_count": 51,
   "id": "biblical-animation",
   "metadata": {},
   "outputs": [],
   "source": [
    "X_3=X.drop(columns=['TCP win'])#removing parameter TCP win"
   ]
  },
  {
   "cell_type": "code",
   "execution_count": 52,
   "id": "announced-valuable",
   "metadata": {},
   "outputs": [],
   "source": [
    "X_train,X_test,Y_train,Y_test=train_test_split(X_2,Y,test_size=0.2)"
   ]
  },
  {
   "cell_type": "code",
   "execution_count": 53,
   "id": "absolute-internship",
   "metadata": {},
   "outputs": [
    {
     "name": "stdout",
     "output_type": "stream",
     "text": [
      "Accuracy for ANN nets is 0.6683304144775248\n"
     ]
    }
   ],
   "source": [
    "ann_model=MLPClassifier()#a general net\n",
    "\n",
    "ann_model.fit(X_train,Y_train)\n",
    "prediction=ann_model.predict(X_test)\n",
    "score=accuracy_score(Y_test,prediction)\n",
    "print(f'Accuracy for ANN nets is {score}') #accuracy of the model"
   ]
  },
  {
   "cell_type": "code",
   "execution_count": 54,
   "id": "alpine-track",
   "metadata": {},
   "outputs": [
    {
     "data": {
      "text/plain": [
       "0.6683304144775248"
      ]
     },
     "execution_count": 54,
     "metadata": {},
     "output_type": "execute_result"
    }
   ],
   "source": [
    "precision_score(Y_test, prediction,average='micro', zero_division='warn')"
   ]
  },
  {
   "cell_type": "code",
   "execution_count": 55,
   "id": "excessive-revolution",
   "metadata": {},
   "outputs": [
    {
     "data": {
      "text/plain": [
       "0.6683304144775248"
      ]
     },
     "execution_count": 55,
     "metadata": {},
     "output_type": "execute_result"
    }
   ],
   "source": [
    "recall_score(Y_test,prediction,average='micro', zero_division='warn')"
   ]
  },
  {
   "cell_type": "code",
   "execution_count": 56,
   "id": "organizational-korean",
   "metadata": {},
   "outputs": [
    {
     "name": "stdout",
     "output_type": "stream",
     "text": [
      "0.6683304144775248\n",
      "0.6675240068215916\n"
     ]
    }
   ],
   "source": [
    "print(f1_score(Y_test, prediction,average='micro'))\n",
    "print(f1_score(Y_test, prediction,average='weighted'))"
   ]
  },
  {
   "cell_type": "code",
   "execution_count": 57,
   "id": "interior-father",
   "metadata": {},
   "outputs": [],
   "source": [
    "X_4=X.drop(columns=['HTTP UA OS'])#removing parameter HTTP UA OS"
   ]
  },
  {
   "cell_type": "code",
   "execution_count": 58,
   "id": "monetary-score",
   "metadata": {},
   "outputs": [],
   "source": [
    "X_train,X_test,Y_train,Y_test=train_test_split(X_2,Y,test_size=0.2)"
   ]
  },
  {
   "cell_type": "code",
   "execution_count": 59,
   "id": "upset-alberta",
   "metadata": {},
   "outputs": [
    {
     "name": "stdout",
     "output_type": "stream",
     "text": [
      "Accuracy for ANN nets is 0.6474022183304144\n"
     ]
    }
   ],
   "source": [
    "ann_model=MLPClassifier()#a general net\n",
    "\n",
    "ann_model.fit(X_train,Y_train)\n",
    "prediction=ann_model.predict(X_test)\n",
    "score=accuracy_score(Y_test,prediction)\n",
    "print(f'Accuracy for ANN nets is {score}') #accuracy of the model"
   ]
  },
  {
   "cell_type": "code",
   "execution_count": 60,
   "id": "committed-uganda",
   "metadata": {},
   "outputs": [
    {
     "data": {
      "text/plain": [
       "0.6474022183304144"
      ]
     },
     "execution_count": 60,
     "metadata": {},
     "output_type": "execute_result"
    }
   ],
   "source": [
    "precision_score(Y_test, prediction,average='micro', zero_division='warn')"
   ]
  },
  {
   "cell_type": "code",
   "execution_count": 61,
   "id": "wooden-termination",
   "metadata": {},
   "outputs": [
    {
     "data": {
      "text/plain": [
       "0.6474022183304144"
      ]
     },
     "execution_count": 61,
     "metadata": {},
     "output_type": "execute_result"
    }
   ],
   "source": [
    "recall_score(Y_test,prediction,average='micro', zero_division='warn')"
   ]
  },
  {
   "cell_type": "code",
   "execution_count": 62,
   "id": "hired-literacy",
   "metadata": {},
   "outputs": [
    {
     "name": "stdout",
     "output_type": "stream",
     "text": [
      "0.6474022183304144\n",
      "0.6361823484373758\n"
     ]
    }
   ],
   "source": [
    "print(f1_score(Y_test, prediction,average='micro'))\n",
    "print(f1_score(Y_test, prediction,average='weighted'))"
   ]
  },
  {
   "cell_type": "code",
   "execution_count": 63,
   "id": "institutional-teaching",
   "metadata": {},
   "outputs": [],
   "source": [
    "X_5=X.drop(columns=['HTTP UA OS MAJ'])#removing parameter HTTP UA OS MAJ"
   ]
  },
  {
   "cell_type": "code",
   "execution_count": 64,
   "id": "gross-casting",
   "metadata": {},
   "outputs": [],
   "source": [
    "X_train,X_test,Y_train,Y_test=train_test_split(X_2,Y,test_size=0.2)"
   ]
  },
  {
   "cell_type": "code",
   "execution_count": 65,
   "id": "aquatic-membrane",
   "metadata": {},
   "outputs": [
    {
     "name": "stdout",
     "output_type": "stream",
     "text": [
      "Accuracy for ANN nets is 0.7466141272621133\n"
     ]
    }
   ],
   "source": [
    "ann_model=MLPClassifier()#a general net\n",
    "\n",
    "ann_model.fit(X_train,Y_train)\n",
    "prediction=ann_model.predict(X_test)\n",
    "score=accuracy_score(Y_test,prediction)\n",
    "print(f'Accuracy for ANN nets is {score}') #accuracy of the model"
   ]
  },
  {
   "cell_type": "code",
   "execution_count": 66,
   "id": "acknowledged-graham",
   "metadata": {},
   "outputs": [
    {
     "data": {
      "text/plain": [
       "0.7466141272621133"
      ]
     },
     "execution_count": 66,
     "metadata": {},
     "output_type": "execute_result"
    }
   ],
   "source": [
    "precision_score(Y_test, prediction,average='micro', zero_division='warn')"
   ]
  },
  {
   "cell_type": "code",
   "execution_count": 67,
   "id": "focal-ecuador",
   "metadata": {},
   "outputs": [
    {
     "data": {
      "text/plain": [
       "0.7466141272621133"
      ]
     },
     "execution_count": 67,
     "metadata": {},
     "output_type": "execute_result"
    }
   ],
   "source": [
    "recall_score(Y_test,prediction,average='micro', zero_division='warn')"
   ]
  },
  {
   "cell_type": "code",
   "execution_count": 68,
   "id": "regular-belle",
   "metadata": {},
   "outputs": [
    {
     "name": "stdout",
     "output_type": "stream",
     "text": [
      "0.7466141272621132\n",
      "0.7261962188319118\n"
     ]
    }
   ],
   "source": [
    "print(f1_score(Y_test, prediction,average='micro'))\n",
    "print(f1_score(Y_test, prediction,average='weighted'))"
   ]
  },
  {
   "cell_type": "code",
   "execution_count": 69,
   "id": "swedish-bidder",
   "metadata": {},
   "outputs": [],
   "source": [
    "X_6=X.drop(columns=['HTTP UA OS MIN'])#removing parameter HTTP UA OS MIN"
   ]
  },
  {
   "cell_type": "code",
   "execution_count": 70,
   "id": "painted-blackjack",
   "metadata": {},
   "outputs": [],
   "source": [
    "X_train,X_test,Y_train,Y_test=train_test_split(X_2,Y,test_size=0.2)"
   ]
  },
  {
   "cell_type": "code",
   "execution_count": 71,
   "id": "vietnamese-disposal",
   "metadata": {},
   "outputs": [
    {
     "name": "stdout",
     "output_type": "stream",
     "text": [
      "Accuracy for ANN nets is 0.7511675423234092\n"
     ]
    }
   ],
   "source": [
    "ann_model=MLPClassifier()#a general net\n",
    "\n",
    "ann_model.fit(X_train,Y_train)\n",
    "prediction=ann_model.predict(X_test)\n",
    "score=accuracy_score(Y_test,prediction)\n",
    "print(f'Accuracy for ANN nets is {score}') #accuracy of the model"
   ]
  },
  {
   "cell_type": "code",
   "execution_count": 72,
   "id": "distant-twins",
   "metadata": {},
   "outputs": [
    {
     "data": {
      "text/plain": [
       "0.7511675423234092"
      ]
     },
     "execution_count": 72,
     "metadata": {},
     "output_type": "execute_result"
    }
   ],
   "source": [
    "precision_score(Y_test, prediction,average='micro', zero_division='warn')"
   ]
  },
  {
   "cell_type": "code",
   "execution_count": 73,
   "id": "smoking-niger",
   "metadata": {},
   "outputs": [
    {
     "data": {
      "text/plain": [
       "0.7511675423234092"
      ]
     },
     "execution_count": 73,
     "metadata": {},
     "output_type": "execute_result"
    }
   ],
   "source": [
    "recall_score(Y_test,prediction,average='micro', zero_division='warn')"
   ]
  },
  {
   "cell_type": "code",
   "execution_count": 74,
   "id": "illegal-basis",
   "metadata": {},
   "outputs": [
    {
     "name": "stdout",
     "output_type": "stream",
     "text": [
      "0.7511675423234092\n",
      "0.7516249663951073\n"
     ]
    }
   ],
   "source": [
    "print(f1_score(Y_test, prediction,average='micro'))\n",
    "print(f1_score(Y_test, prediction,average='weighted'))"
   ]
  },
  {
   "cell_type": "code",
   "execution_count": 75,
   "id": "legitimate-siemens",
   "metadata": {},
   "outputs": [],
   "source": [
    "X_7=X.drop(columns=['HTTP UA OS BLD'])#removing parameter HTTP UA OS BLD"
   ]
  },
  {
   "cell_type": "code",
   "execution_count": 76,
   "id": "civil-palestine",
   "metadata": {},
   "outputs": [],
   "source": [
    "X_train,X_test,Y_train,Y_test=train_test_split(X_2,Y,test_size=0.2)"
   ]
  },
  {
   "cell_type": "code",
   "execution_count": 77,
   "id": "korean-necessity",
   "metadata": {},
   "outputs": [
    {
     "name": "stdout",
     "output_type": "stream",
     "text": [
      "Accuracy for ANN nets is 0.6830122591943958\n"
     ]
    }
   ],
   "source": [
    "ann_model=MLPClassifier()#a general net\n",
    "\n",
    "ann_model.fit(X_train,Y_train)\n",
    "prediction=ann_model.predict(X_test)\n",
    "score=accuracy_score(Y_test,prediction)\n",
    "print(f'Accuracy for ANN nets is {score}') #accuracy of the model"
   ]
  },
  {
   "cell_type": "code",
   "execution_count": 78,
   "id": "global-darkness",
   "metadata": {},
   "outputs": [
    {
     "data": {
      "text/plain": [
       "0.6830122591943958"
      ]
     },
     "execution_count": 78,
     "metadata": {},
     "output_type": "execute_result"
    }
   ],
   "source": [
    "precision_score(Y_test, prediction,average='micro', zero_division='warn')"
   ]
  },
  {
   "cell_type": "code",
   "execution_count": 79,
   "id": "broadband-pharmaceutical",
   "metadata": {},
   "outputs": [
    {
     "data": {
      "text/plain": [
       "0.6830122591943958"
      ]
     },
     "execution_count": 79,
     "metadata": {},
     "output_type": "execute_result"
    }
   ],
   "source": [
    "recall_score(Y_test,prediction,average='micro', zero_division='warn')"
   ]
  },
  {
   "cell_type": "code",
   "execution_count": 80,
   "id": "lasting-software",
   "metadata": {},
   "outputs": [
    {
     "name": "stdout",
     "output_type": "stream",
     "text": [
      "0.6830122591943958\n",
      "0.6813418119757823\n"
     ]
    }
   ],
   "source": [
    "print(f1_score(Y_test, prediction,average='micro'))\n",
    "print(f1_score(Y_test, prediction,average='weighted'))"
   ]
  },
  {
   "cell_type": "code",
   "execution_count": null,
   "id": "organized-management",
   "metadata": {},
   "outputs": [],
   "source": []
  }
 ],
 "metadata": {
  "kernelspec": {
   "display_name": "Python 3",
   "language": "python",
   "name": "python3"
  },
  "language_info": {
   "codemirror_mode": {
    "name": "ipython",
    "version": 3
   },
   "file_extension": ".py",
   "mimetype": "text/x-python",
   "name": "python",
   "nbconvert_exporter": "python",
   "pygments_lexer": "ipython3",
   "version": "3.8.5"
  }
 },
 "nbformat": 4,
 "nbformat_minor": 5
}
